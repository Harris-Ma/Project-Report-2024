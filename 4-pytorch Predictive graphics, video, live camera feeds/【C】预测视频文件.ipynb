{
 "cells": [
  {
   "cell_type": "markdown",
   "id": "69e033a7-cde2-4a3b-8df7-2f7b6745637e",
   "metadata": {},
   "source": [
    "### 预测视频文件"
   ]
  },
  {
   "cell_type": "code",
   "execution_count": 1,
   "id": "5b81ce15-a599-40e9-b87d-87af31780468",
   "metadata": {},
   "outputs": [],
   "source": [
    "import matplotlib.pyplot as plt\n",
    "%matplotlib inline\n",
    "\n",
    "import matplotlib"
   ]
  },
  {
   "cell_type": "code",
   "execution_count": 2,
   "id": "07340d06-0648-4d28-9a3b-f79601000a82",
   "metadata": {},
   "outputs": [],
   "source": [
    "from PIL import ImageFont, ImageDraw"
   ]
  },
  {
   "cell_type": "markdown",
   "id": "5225c72e-22a2-4fb7-ada4-aaa7b9b26253",
   "metadata": {},
   "source": [
    "### 导入工具包"
   ]
  },
  {
   "cell_type": "code",
   "execution_count": 29,
   "id": "27f6f7be-fbdf-47c2-9c56-5998be664026",
   "metadata": {},
   "outputs": [
    {
     "name": "stdout",
     "output_type": "stream",
     "text": [
      "device: cuda:0\n"
     ]
    }
   ],
   "source": [
    "import os\n",
    "import time\n",
    "import shutil\n",
    "import tempfile\n",
    "from tqdm import tqdm\n",
    "\n",
    "import cv2\n",
    "from PIL import Image\n",
    "\n",
    "import numpy as np\n",
    "import pandas as pd\n",
    "import matplotlib.pyplot as plt\n",
    "%matplotlib inline\n",
    "plt.rcParams['axes.unicode_minus']=False  # 用来正常显示负号\n",
    "plt.rcParams['font.sans-serif']=['DejaVu Sans']  # 用来正常显示中文标签\n",
    "import gc\n",
    "\n",
    "import torch\n",
    "import torch.nn.functional as F\n",
    "from torchvision import models\n",
    "\n",
    "import mmcv\n",
    "\n",
    "# 有 GPU 就用 GPU，没有就用 CPU\n",
    "device = torch.device('cuda:0' if torch.cuda.is_available() else 'cpu')\n",
    "print('device:', device)"
   ]
  },
  {
   "cell_type": "code",
   "execution_count": 4,
   "id": "89b2bce7-990f-4b74-99da-48c2863a924a",
   "metadata": {},
   "outputs": [],
   "source": [
    "import mmcv"
   ]
  },
  {
   "cell_type": "code",
   "execution_count": 5,
   "id": "c3e7db8e-ae47-43d7-bccd-818e2ba73738",
   "metadata": {},
   "outputs": [
    {
     "name": "stdout",
     "output_type": "stream",
     "text": [
      "Looking in indexes: https://pypi.tuna.tsinghua.edu.cn/simple\n",
      "Requirement already satisfied: openmim in /environment/miniconda3/lib/python3.10/site-packages (0.3.9)\n",
      "Requirement already satisfied: Click in /environment/miniconda3/lib/python3.10/site-packages (from openmim) (7.1.2)\n",
      "Requirement already satisfied: colorama in /environment/miniconda3/lib/python3.10/site-packages (from openmim) (0.4.6)\n",
      "Requirement already satisfied: model-index in /environment/miniconda3/lib/python3.10/site-packages (from openmim) (0.1.11)\n",
      "Requirement already satisfied: opendatalab in /environment/miniconda3/lib/python3.10/site-packages (from openmim) (0.0.10)\n",
      "Requirement already satisfied: pandas in /environment/miniconda3/lib/python3.10/site-packages (from openmim) (2.1.2)\n",
      "Requirement already satisfied: pip>=19.3 in /environment/miniconda3/lib/python3.10/site-packages (from openmim) (23.1.2)\n",
      "Requirement already satisfied: requests in /environment/miniconda3/lib/python3.10/site-packages (from openmim) (2.28.2)\n",
      "Requirement already satisfied: rich in /environment/miniconda3/lib/python3.10/site-packages (from openmim) (13.4.2)\n",
      "Requirement already satisfied: tabulate in /environment/miniconda3/lib/python3.10/site-packages (from openmim) (0.8.7)\n",
      "Requirement already satisfied: pyyaml in /environment/miniconda3/lib/python3.10/site-packages (from model-index->openmim) (6.0.1)\n",
      "Requirement already satisfied: markdown in /environment/miniconda3/lib/python3.10/site-packages (from model-index->openmim) (3.4.4)\n",
      "Requirement already satisfied: ordered-set in /environment/miniconda3/lib/python3.10/site-packages (from model-index->openmim) (4.1.0)\n",
      "Requirement already satisfied: pycryptodome in /environment/miniconda3/lib/python3.10/site-packages (from opendatalab->openmim) (3.18.0)\n",
      "Requirement already satisfied: tqdm in /environment/miniconda3/lib/python3.10/site-packages (from opendatalab->openmim) (4.65.0)\n",
      "Requirement already satisfied: openxlab in /environment/miniconda3/lib/python3.10/site-packages (from opendatalab->openmim) (0.0.38)\n",
      "Requirement already satisfied: charset-normalizer<4,>=2 in /environment/miniconda3/lib/python3.10/site-packages (from requests->openmim) (2.0.4)\n",
      "Requirement already satisfied: idna<4,>=2.5 in /environment/miniconda3/lib/python3.10/site-packages (from requests->openmim) (2.10)\n",
      "Requirement already satisfied: urllib3<1.27,>=1.21.1 in /environment/miniconda3/lib/python3.10/site-packages (from requests->openmim) (1.26.18)\n",
      "Requirement already satisfied: certifi>=2017.4.17 in /environment/miniconda3/lib/python3.10/site-packages (from requests->openmim) (2023.7.22)\n",
      "Requirement already satisfied: numpy<2,>=1.22.4 in /environment/miniconda3/lib/python3.10/site-packages (from pandas->openmim) (1.24.1)\n",
      "Requirement already satisfied: python-dateutil>=2.8.2 in /environment/miniconda3/lib/python3.10/site-packages (from pandas->openmim) (2.8.2)\n",
      "Requirement already satisfied: pytz>=2020.1 in /environment/miniconda3/lib/python3.10/site-packages (from pandas->openmim) (2023.3.post1)\n",
      "Requirement already satisfied: tzdata>=2022.1 in /environment/miniconda3/lib/python3.10/site-packages (from pandas->openmim) (2023.3)\n",
      "Requirement already satisfied: markdown-it-py>=2.2.0 in /environment/miniconda3/lib/python3.10/site-packages (from rich->openmim) (3.0.0)\n",
      "Requirement already satisfied: pygments<3.0.0,>=2.13.0 in /environment/miniconda3/lib/python3.10/site-packages (from rich->openmim) (2.15.1)\n",
      "Requirement already satisfied: mdurl~=0.1 in /environment/miniconda3/lib/python3.10/site-packages (from markdown-it-py>=2.2.0->rich->openmim) (0.1.2)\n",
      "Requirement already satisfied: six>=1.5 in /environment/miniconda3/lib/python3.10/site-packages (from python-dateutil>=2.8.2->pandas->openmim) (1.16.0)\n",
      "Requirement already satisfied: oss2~=2.17.0 in /environment/miniconda3/lib/python3.10/site-packages (from openxlab->opendatalab->openmim) (2.17.0)\n",
      "Requirement already satisfied: setuptools~=60.2.0 in /environment/miniconda3/lib/python3.10/site-packages (from openxlab->opendatalab->openmim) (60.2.0)\n",
      "Requirement already satisfied: crcmod>=1.7 in /environment/miniconda3/lib/python3.10/site-packages (from oss2~=2.17.0->openxlab->opendatalab->openmim) (1.7)\n",
      "Requirement already satisfied: aliyun-python-sdk-kms>=2.4.1 in /environment/miniconda3/lib/python3.10/site-packages (from oss2~=2.17.0->openxlab->opendatalab->openmim) (2.16.1)\n",
      "Requirement already satisfied: aliyun-python-sdk-core>=2.13.12 in /environment/miniconda3/lib/python3.10/site-packages (from oss2~=2.17.0->openxlab->opendatalab->openmim) (2.13.36)\n",
      "Requirement already satisfied: jmespath<1.0.0,>=0.9.3 in /environment/miniconda3/lib/python3.10/site-packages (from aliyun-python-sdk-core>=2.13.12->oss2~=2.17.0->openxlab->opendatalab->openmim) (0.10.0)\n",
      "Requirement already satisfied: cryptography>=2.6.0 in /environment/miniconda3/lib/python3.10/site-packages (from aliyun-python-sdk-core>=2.13.12->oss2~=2.17.0->openxlab->opendatalab->openmim) (39.0.1)\n",
      "Requirement already satisfied: cffi>=1.12 in /environment/miniconda3/lib/python3.10/site-packages (from cryptography>=2.6.0->aliyun-python-sdk-core>=2.13.12->oss2~=2.17.0->openxlab->opendatalab->openmim) (1.15.1)\n",
      "Requirement already satisfied: pycparser in /environment/miniconda3/lib/python3.10/site-packages (from cffi>=1.12->cryptography>=2.6.0->aliyun-python-sdk-core>=2.13.12->oss2~=2.17.0->openxlab->opendatalab->openmim) (2.21)\n",
      "Looking in indexes: https://pypi.tuna.tsinghua.edu.cn/simple\n",
      "Looking in links: https://download.openmmlab.com/mmcv/dist/cu118/torch2.0.0/index.html\n",
      "Requirement already satisfied: mmcv-lite in /environment/miniconda3/lib/python3.10/site-packages (2.1.0)\n",
      "Requirement already satisfied: addict in /environment/miniconda3/lib/python3.10/site-packages (from mmcv-lite) (2.4.0)\n",
      "Requirement already satisfied: mmengine>=0.3.0 in /environment/miniconda3/lib/python3.10/site-packages (from mmcv-lite) (0.10.3)\n",
      "Requirement already satisfied: numpy in /environment/miniconda3/lib/python3.10/site-packages (from mmcv-lite) (1.24.1)\n",
      "Requirement already satisfied: packaging in /environment/miniconda3/lib/python3.10/site-packages (from mmcv-lite) (23.0)\n",
      "Requirement already satisfied: Pillow in /environment/miniconda3/lib/python3.10/site-packages (from mmcv-lite) (9.3.0)\n",
      "Requirement already satisfied: pyyaml in /environment/miniconda3/lib/python3.10/site-packages (from mmcv-lite) (6.0.1)\n",
      "Requirement already satisfied: yapf in /environment/miniconda3/lib/python3.10/site-packages (from mmcv-lite) (0.40.2)\n",
      "Requirement already satisfied: opencv-python>=3 in /environment/miniconda3/lib/python3.10/site-packages (from mmcv-lite) (4.8.1.78)\n",
      "Requirement already satisfied: matplotlib in /environment/miniconda3/lib/python3.10/site-packages (from mmengine>=0.3.0->mmcv-lite) (3.8.1)\n",
      "Requirement already satisfied: rich in /environment/miniconda3/lib/python3.10/site-packages (from mmengine>=0.3.0->mmcv-lite) (13.4.2)\n",
      "Requirement already satisfied: termcolor in /environment/miniconda3/lib/python3.10/site-packages (from mmengine>=0.3.0->mmcv-lite) (2.3.0)\n",
      "Requirement already satisfied: importlib-metadata>=6.6.0 in /environment/miniconda3/lib/python3.10/site-packages (from yapf->mmcv-lite) (7.1.0)\n",
      "Requirement already satisfied: platformdirs>=3.5.1 in /environment/miniconda3/lib/python3.10/site-packages (from yapf->mmcv-lite) (3.10.0)\n",
      "Requirement already satisfied: tomli>=2.0.1 in /environment/miniconda3/lib/python3.10/site-packages (from yapf->mmcv-lite) (2.0.1)\n",
      "Requirement already satisfied: zipp>=0.5 in /environment/miniconda3/lib/python3.10/site-packages (from importlib-metadata>=6.6.0->yapf->mmcv-lite) (3.18.1)\n",
      "Requirement already satisfied: contourpy>=1.0.1 in /environment/miniconda3/lib/python3.10/site-packages (from matplotlib->mmengine>=0.3.0->mmcv-lite) (1.2.0)\n",
      "Requirement already satisfied: cycler>=0.10 in /environment/miniconda3/lib/python3.10/site-packages (from matplotlib->mmengine>=0.3.0->mmcv-lite) (0.12.1)\n",
      "Requirement already satisfied: fonttools>=4.22.0 in /environment/miniconda3/lib/python3.10/site-packages (from matplotlib->mmengine>=0.3.0->mmcv-lite) (4.44.0)\n",
      "Requirement already satisfied: kiwisolver>=1.3.1 in /environment/miniconda3/lib/python3.10/site-packages (from matplotlib->mmengine>=0.3.0->mmcv-lite) (1.4.5)\n",
      "Requirement already satisfied: pyparsing>=2.3.1 in /environment/miniconda3/lib/python3.10/site-packages (from matplotlib->mmengine>=0.3.0->mmcv-lite) (3.1.1)\n",
      "Requirement already satisfied: python-dateutil>=2.7 in /environment/miniconda3/lib/python3.10/site-packages (from matplotlib->mmengine>=0.3.0->mmcv-lite) (2.8.2)\n",
      "Requirement already satisfied: markdown-it-py>=2.2.0 in /environment/miniconda3/lib/python3.10/site-packages (from rich->mmengine>=0.3.0->mmcv-lite) (3.0.0)\n",
      "Requirement already satisfied: pygments<3.0.0,>=2.13.0 in /environment/miniconda3/lib/python3.10/site-packages (from rich->mmengine>=0.3.0->mmcv-lite) (2.15.1)\n",
      "Requirement already satisfied: mdurl~=0.1 in /environment/miniconda3/lib/python3.10/site-packages (from markdown-it-py>=2.2.0->rich->mmengine>=0.3.0->mmcv-lite) (0.1.2)\n",
      "Requirement already satisfied: six>=1.5 in /environment/miniconda3/lib/python3.10/site-packages (from python-dateutil>=2.7->matplotlib->mmengine>=0.3.0->mmcv-lite) (1.16.0)\n"
     ]
    }
   ],
   "source": [
    "!pip install -U openmim\n",
    "!mim install mmcv-lite"
   ]
  },
  {
   "cell_type": "code",
   "execution_count": 6,
   "id": "4421212e-7b09-4910-81ac-178859bc780c",
   "metadata": {},
   "outputs": [],
   "source": [
    "# 后端绘图，不显示，只保存\n",
    "import matplotlib\n",
    "matplotlib.use('Agg')"
   ]
  },
  {
   "cell_type": "markdown",
   "id": "b3e61ac5-77b7-4948-bf1f-10cd612b328e",
   "metadata": {},
   "source": [
    "### 载入类别"
   ]
  },
  {
   "cell_type": "code",
   "execution_count": 7,
   "id": "0d1675b7-9caf-44c1-b780-190d4ee2a362",
   "metadata": {},
   "outputs": [],
   "source": [
    "idx_to_labels = np.load('idx_to_labels.npy', allow_pickle=True).item()"
   ]
  },
  {
   "cell_type": "markdown",
   "id": "e458ce44-c044-4c97-aab2-edc25de62932",
   "metadata": {},
   "source": [
    "### 导入训练好的模型"
   ]
  },
  {
   "cell_type": "code",
   "execution_count": 8,
   "id": "0c548b92-19a9-48c3-bc0e-070a6e046edd",
   "metadata": {},
   "outputs": [],
   "source": [
    "model = torch.load('checkpoint/Particle Figures_pytorch_C1.pth')\n",
    "model = model.eval().to(device)"
   ]
  },
  {
   "cell_type": "markdown",
   "id": "ab409078-84d1-47dd-b7c5-39106506b0bb",
   "metadata": {},
   "source": [
    "### 图像预处理"
   ]
  },
  {
   "cell_type": "code",
   "execution_count": 9,
   "id": "aaa4282f-61c6-46df-aa78-d100be2e0f2e",
   "metadata": {},
   "outputs": [],
   "source": [
    "from torchvision import transforms\n",
    "\n",
    "# 测试集图像预处理-RCTN：缩放裁剪、转 Tensor、归一化\n",
    "test_transform = transforms.Compose([transforms.Resize(256),\n",
    "                                     transforms.CenterCrop(224),\n",
    "                                     transforms.ToTensor(),\n",
    "                                     transforms.Normalize(\n",
    "                                         mean=[0.485, 0.456, 0.406], \n",
    "                                         std=[0.229, 0.224, 0.225])\n",
    "                                    ])"
   ]
  },
  {
   "cell_type": "markdown",
   "id": "723c1f87-739f-4384-9288-5dfa9a54acf3",
   "metadata": {},
   "source": [
    "### 图像分类预测函数"
   ]
  },
  {
   "cell_type": "code",
   "execution_count": 34,
   "id": "bdf9de6e-9b55-431a-92f0-2c9d35f36442",
   "metadata": {},
   "outputs": [],
   "source": [
    "def pred_single_frame(img, n=5):\n",
    "    '''\n",
    "    输入摄像头画面bgr-array，输出前n个图像分类预测结果的图像bgr-array\n",
    "    '''\n",
    "    img_rgb = cv2.cvtColor(img, cv2.COLOR_BGR2RGB) # BGR 转 RGB\n",
    "    img_pil = Image.fromarray(img_rgb) # array 转 pil\n",
    "    input_img = test_transform(img_pil).unsqueeze(0).to(device) # 预处理\n",
    "    pred_logits = model(input_img) # 执行前向预测，得到所有类别的 logit 预测分数\n",
    "    pred_softmax = F.softmax(pred_logits, dim=1) # 对 logit 分数做 softmax 运算\n",
    "    \n",
    "    top_n = torch.topk(pred_softmax, n) # 取置信度最大的 n 个结果\n",
    "    pred_ids = top_n[1].cpu().detach().numpy().squeeze() # 解析出类别\n",
    "    confs = top_n[0].cpu().detach().numpy().squeeze() # 解析出置信度\n",
    "    \n",
    "    # 在图像上写字\n",
    "    draw = ImageDraw.Draw(img_pil)\n",
    "    # 在图像上写字\n",
    "    for i in range(len(confs)):\n",
    "        pred_class = idx_to_labels[pred_ids[i]]\n",
    "        text = '{:<15} {:>.3f}'.format(pred_class, confs[i])\n",
    "        # 文字坐标，中文字符串，字体，rgba颜色\n",
    "        draw.text((50, 100 + 50 * i), text,  fill=(255, 0, 0, 1))\n",
    "    \n",
    "    img_bgr = cv2.cvtColor(np.array(img_pil), cv2.COLOR_RGB2BGR) # RGB转BGR\n",
    "        \n",
    "    return img_bgr, pred_softmax"
   ]
  },
  {
   "cell_type": "markdown",
   "id": "de77b201-8f7e-4b4a-8f69-bb6c0c81094b",
   "metadata": {},
   "source": [
    "### 视频预测\n",
    "输入输出视频路径"
   ]
  },
  {
   "cell_type": "code",
   "execution_count": 11,
   "id": "3419ae20-c5c3-4c3e-b201-4d34015faa71",
   "metadata": {},
   "outputs": [],
   "source": [
    "input_video = 'test_img/test_video.mp4'\n",
    "output_path = 'output/output_pred.mp4'"
   ]
  },
  {
   "cell_type": "markdown",
   "id": "fe53bd4f-2a2b-4910-83c5-60d732eedd64",
   "metadata": {},
   "source": [
    "### 可视化方案一：原始图像+预测结果文字"
   ]
  },
  {
   "cell_type": "code",
   "execution_count": 12,
   "id": "96fb75e4-37c1-4fa4-9c29-ed971be4a593",
   "metadata": {},
   "outputs": [
    {
     "name": "stdout",
     "output_type": "stream",
     "text": [
      "创建临时文件夹 20240422014151 用于存放每帧预测结果\n"
     ]
    }
   ],
   "source": [
    "# 创建临时文件夹，存放每帧结果\n",
    "temp_out_dir = time.strftime('%Y%m%d%H%M%S')\n",
    "os.mkdir(temp_out_dir)\n",
    "print('创建临时文件夹 {} 用于存放每帧预测结果'.format(temp_out_dir))"
   ]
  },
  {
   "cell_type": "code",
   "execution_count": 38,
   "id": "68746b26-4db4-4083-bcb1-cd13f2bc66c2",
   "metadata": {},
   "outputs": [
    {
     "ename": "AttributeError",
     "evalue": "module 'mmcv' has no attribute 'ProgressBar'",
     "output_type": "error",
     "traceback": [
      "\u001b[0;31m---------------------------------------------------------------------------\u001b[0m",
      "\u001b[0;31mAttributeError\u001b[0m                            Traceback (most recent call last)",
      "Cell \u001b[0;32mIn[38], line 4\u001b[0m\n\u001b[1;32m      1\u001b[0m \u001b[38;5;66;03m# 读入待预测视频\u001b[39;00m\n\u001b[1;32m      2\u001b[0m imgs \u001b[38;5;241m=\u001b[39m mmcv\u001b[38;5;241m.\u001b[39mVideoReader(input_video)\n\u001b[0;32m----> 4\u001b[0m prog_bar \u001b[38;5;241m=\u001b[39m \u001b[43mmmcv\u001b[49m\u001b[38;5;241;43m.\u001b[39;49m\u001b[43mProgressBar\u001b[49m(\u001b[38;5;28mlen\u001b[39m(imgs))\n\u001b[1;32m      6\u001b[0m \u001b[38;5;66;03m# 对视频逐帧处理\u001b[39;00m\n\u001b[1;32m      7\u001b[0m \u001b[38;5;28;01mfor\u001b[39;00m frame_id, img \u001b[38;5;129;01min\u001b[39;00m \u001b[38;5;28menumerate\u001b[39m(imgs):\n\u001b[1;32m      8\u001b[0m     \n\u001b[1;32m      9\u001b[0m     \u001b[38;5;66;03m## 处理单帧画面\u001b[39;00m\n",
      "\u001b[0;31mAttributeError\u001b[0m: module 'mmcv' has no attribute 'ProgressBar'"
     ]
    }
   ],
   "source": [
    "# 读入待预测视频\n",
    "imgs = mmcv.VideoReader(input_video)\n",
    "\n",
    "prog_bar = mmcv.ProgressBar(len(imgs))\n",
    "\n",
    "# 对视频逐帧处理\n",
    "for frame_id, img in enumerate(imgs):\n",
    "    \n",
    "    ## 处理单帧画面\n",
    "    img, pred_softmax = pred_single_frame(img, n=5)\n",
    "\n",
    "    # 将处理后的该帧画面图像文件，保存至 /tmp 目录下\n",
    "    cv2.imwrite(f'{temp_out_dir}/{frame_id:06d}.jpg', img)\n",
    "    \n",
    "    prog_bar.update() # 更新进度条\n",
    "\n",
    "# 把每一帧串成视频文件\n",
    "mmcv.frames2video(temp_out_dir, output_path, fps=imgs.fps, fourcc='mp4v')\n",
    "\n",
    "shutil.rmtree(temp_out_dir) # 删除存放每帧画面的临时文件夹\n",
    "print('删除临时文件夹', temp_out_dir)\n",
    "print('视频已生成', output_path)"
   ]
  },
  {
   "cell_type": "markdown",
   "id": "2b9a2c3a-92cc-432c-a36c-c7f7bd6e8503",
   "metadata": {},
   "source": [
    "### 可视化方案二：原始图像+预测结果文字+各类别置信度柱状图"
   ]
  },
  {
   "cell_type": "code",
   "execution_count": 21,
   "id": "e39ef0e9-165f-44e7-99f7-83673455b39c",
   "metadata": {
    "tags": []
   },
   "outputs": [],
   "source": [
    "input_video = 'test_img/test_video.mp4'\n",
    "output_path = 'output/output_pred.mp4'"
   ]
  },
  {
   "cell_type": "code",
   "execution_count": 39,
   "id": "2a568c14-924e-4b95-8f33-ce8b4dd9cfb0",
   "metadata": {},
   "outputs": [],
   "source": [
    "def pred_single_frame_bar(img):\n",
    "    '''\n",
    "    输入pred_single_frame函数输出的bgr-array，加柱状图，保存\n",
    "    '''\n",
    "    img = cv2.cvtColor(img, cv2.COLOR_BGR2RGB) # BGR 转 RGB\n",
    "    fig = plt.figure(figsize=(18,6))\n",
    "    # 绘制左图-视频图\n",
    "    ax1 = plt.subplot(1,2,1)\n",
    "    ax1.imshow(img)\n",
    "    ax1.axis('off')\n",
    "    # 绘制右图-柱状图\n",
    "    ax2 = plt.subplot(1,2,2)\n",
    "    x = idx_to_labels.values()\n",
    "    y = pred_softmax.cpu().detach().numpy()[0] * 100\n",
    "    ax2.bar(x, y, alpha=0.5, width=0.3, color='yellow', edgecolor='red', lw=3)\n",
    "    plt.xlabel('Class', fontsize=20)\n",
    "    plt.ylabel('Confidence Level', fontsize=20)\n",
    "    ax2.tick_params(labelsize=16) # 坐标文字大小\n",
    "    plt.ylim([0, 100]) # y轴取值范围\n",
    "    plt.xlabel('Class',fontsize=25)\n",
    "    plt.ylabel('Confidence Level',fontsize=25)\n",
    "    plt.title('Classification Result', fontsize=30)\n",
    "    plt.xticks(rotation=90) # 横轴文字旋转\n",
    "    \n",
    "    plt.tight_layout()\n",
    "    fig.savefig(f'{temp_out_dir}/{frame_id:06d}.jpg')\n",
    "    # 释放内存\n",
    "    fig.clf()\n",
    "    plt.close()\n",
    "    gc.collect()"
   ]
  },
  {
   "cell_type": "code",
   "execution_count": 40,
   "id": "e28a24b4-4ce8-4ac4-b38c-46861e028fa3",
   "metadata": {},
   "outputs": [
    {
     "name": "stdout",
     "output_type": "stream",
     "text": [
      "创建临时文件夹 20240422020051 用于存放每帧预测结果\n"
     ]
    }
   ],
   "source": [
    "# 创建临时文件夹，存放每帧结果\n",
    "temp_out_dir = time.strftime('%Y%m%d%H%M%S')\n",
    "os.mkdir(temp_out_dir)\n",
    "print('创建临时文件夹 {} 用于存放每帧预测结果'.format(temp_out_dir))"
   ]
  },
  {
   "cell_type": "code",
   "execution_count": 41,
   "id": "dd6ffc17-33aa-4f96-b93f-74455fc56045",
   "metadata": {},
   "outputs": [
    {
     "name": "stdout",
     "output_type": "stream",
     "text": [
      "[>>>>>>>>>>>>>>>>>>>>>>>>>>>>>>] 404/404, 72.6 task/s, elapsed: 6s, ETA:     0s\n",
      "删除临时文件夹 20240422020051\n",
      "视频已生成 output/output_pred.mp4\n"
     ]
    }
   ],
   "source": [
    "# 读入待预测视频\n",
    "imgs = mmcv.VideoReader(input_video)\n",
    "\n",
    "# 对视频逐帧处理\n",
    "for frame_id, img in enumerate(imgs):\n",
    "    \n",
    "    ## 处理单帧画面\n",
    "    img, pred_softmax = pred_single_frame(img, n=5)\n",
    "    img = pred_single_frame_bar(img)\n",
    "    \n",
    "    #prog_bar.update() # 更新进度条\n",
    "\n",
    "# 把每一帧串成视频文件\n",
    "mmcv.frames2video(temp_out_dir, output_path, fps=imgs.fps, fourcc='mp4v')\n",
    "\n",
    "shutil.rmtree(temp_out_dir) # 删除存放每帧画面的临时文件夹\n",
    "print('删除临时文件夹', temp_out_dir)\n",
    "print('视频已生成', output_path)"
   ]
  },
  {
   "cell_type": "code",
   "execution_count": null,
   "id": "0933a432-7908-4a41-a4da-3c062456a34f",
   "metadata": {},
   "outputs": [],
   "source": []
  }
 ],
 "metadata": {
  "kernelspec": {
   "display_name": "Python 3 (ipykernel)",
   "language": "python",
   "name": "python3"
  },
  "language_info": {
   "codemirror_mode": {
    "name": "ipython",
    "version": 3
   },
   "file_extension": ".py",
   "mimetype": "text/x-python",
   "name": "python",
   "nbconvert_exporter": "python",
   "pygments_lexer": "ipython3",
   "version": "3.10.12"
  }
 },
 "nbformat": 4,
 "nbformat_minor": 5
}
