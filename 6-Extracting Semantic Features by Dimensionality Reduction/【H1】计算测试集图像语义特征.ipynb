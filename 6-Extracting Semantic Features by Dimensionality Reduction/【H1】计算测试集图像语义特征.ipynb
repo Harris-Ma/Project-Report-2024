{
 "cells": [
  {
   "cell_type": "markdown",
   "id": "753ae5b1-2f57-4f1c-ba12-0c2a6f62a23a",
   "metadata": {},
   "source": [
    "# 计算测试集图像语义特征\n",
    "\n",
    "抽取Pytorch训练得到的图像分类模型中间层的输出特征，作为输入图像的语义特征。\n",
    "\n",
    "计算测试集所有图像的语义特征，使用t-SNE和UMAP两种降维方法降维至二维和三维，可视化。\n",
    "\n",
    "分析不同类别的语义距离、异常数据、细粒度分类、高维数据结构。\n"
   ]
  },
  {
   "cell_type": "markdown",
   "id": "0a2a232f-0178-4661-98d8-f27f6fa130bf",
   "metadata": {},
   "source": [
    "## 导入工具包"
   ]
  },
  {
   "cell_type": "code",
   "execution_count": 1,
   "id": "57328106-567d-4be0-a0bc-1a20e88ceb01",
   "metadata": {},
   "outputs": [
    {
     "name": "stdout",
     "output_type": "stream",
     "text": [
      "device cuda:0\n"
     ]
    }
   ],
   "source": [
    "from tqdm import tqdm\n",
    "\n",
    "import pandas as pd\n",
    "import numpy as np\n",
    "\n",
    "import torch\n",
    "\n",
    "import cv2\n",
    "from PIL import Image\n",
    "\n",
    "# 忽略烦人的红色提示\n",
    "import warnings\n",
    "warnings.filterwarnings(\"ignore\")\n",
    "\n",
    "# 有 GPU 就用 GPU，没有就用 CPU\n",
    "device = torch.device('cuda:0' if torch.cuda.is_available() else 'cpu')\n",
    "print('device', device)"
   ]
  },
  {
   "cell_type": "markdown",
   "id": "7500ea23-53d8-4421-92f6-647d41e34d80",
   "metadata": {},
   "source": [
    "## 图像预处理"
   ]
  },
  {
   "cell_type": "code",
   "execution_count": 2,
   "id": "b562b97f-9a4a-4729-b238-4acb2e77e9dc",
   "metadata": {},
   "outputs": [],
   "source": [
    "from torchvision import transforms\n",
    "\n",
    "# # 训练集图像预处理：缩放裁剪、图像增强、转 Tensor、归一化\n",
    "# train_transform = transforms.Compose([transforms.RandomResizedCrop(224),\n",
    "#                                       transforms.RandomHorizontalFlip(),\n",
    "#                                       transforms.ToTensor(),\n",
    "#                                       transforms.Normalize([0.485, 0.456, 0.406], [0.229, 0.224, 0.225])\n",
    "#                                      ])\n",
    "\n",
    "# 测试集图像预处理-RCTN：缩放、裁剪、转 Tensor、归一化\n",
    "test_transform = transforms.Compose([transforms.Resize(256),\n",
    "                                     transforms.CenterCrop(224),\n",
    "                                     transforms.ToTensor(),\n",
    "                                     transforms.Normalize(\n",
    "                                         mean=[0.485, 0.456, 0.406], \n",
    "                                         std=[0.229, 0.224, 0.225])\n",
    "                                    ])"
   ]
  },
  {
   "cell_type": "markdown",
   "id": "f4a3347a-1c09-4b48-b19a-fbcc3791c08b",
   "metadata": {},
   "source": [
    "## 导入训练好的模型"
   ]
  },
  {
   "cell_type": "code",
   "execution_count": 3,
   "id": "618333ec-6e91-4342-acf3-86aaa1654068",
   "metadata": {},
   "outputs": [],
   "source": [
    "model = torch.load('Particle Figures_pytorch_C1.pth')\n",
    "model = model.eval().to(device)"
   ]
  },
  {
   "cell_type": "markdown",
   "id": "e41c4cb2-e516-4150-9e9c-9580a26c72a3",
   "metadata": {},
   "source": [
    "## 抽取模型中间层输出结果作为语义特征"
   ]
  },
  {
   "cell_type": "code",
   "execution_count": 4,
   "id": "a9fdf127-c713-4bb4-bcc8-4f808e011229",
   "metadata": {},
   "outputs": [],
   "source": [
    "from torchvision.models.feature_extraction import create_feature_extractor"
   ]
  },
  {
   "cell_type": "code",
   "execution_count": 5,
   "id": "f763f7cc-420b-4a95-a58b-9e316f393ef6",
   "metadata": {},
   "outputs": [
    {
     "data": {
      "text/plain": [
       "ResNet(\n",
       "  (conv1): Conv2d(3, 64, kernel_size=(7, 7), stride=(2, 2), padding=(3, 3), bias=False)\n",
       "  (bn1): BatchNorm2d(64, eps=1e-05, momentum=0.1, affine=True, track_running_stats=True)\n",
       "  (relu): ReLU(inplace=True)\n",
       "  (maxpool): MaxPool2d(kernel_size=3, stride=2, padding=1, dilation=1, ceil_mode=False)\n",
       "  (layer1): Sequential(\n",
       "    (0): BasicBlock(\n",
       "      (conv1): Conv2d(64, 64, kernel_size=(3, 3), stride=(1, 1), padding=(1, 1), bias=False)\n",
       "      (bn1): BatchNorm2d(64, eps=1e-05, momentum=0.1, affine=True, track_running_stats=True)\n",
       "      (relu): ReLU(inplace=True)\n",
       "      (conv2): Conv2d(64, 64, kernel_size=(3, 3), stride=(1, 1), padding=(1, 1), bias=False)\n",
       "      (bn2): BatchNorm2d(64, eps=1e-05, momentum=0.1, affine=True, track_running_stats=True)\n",
       "    )\n",
       "    (1): BasicBlock(\n",
       "      (conv1): Conv2d(64, 64, kernel_size=(3, 3), stride=(1, 1), padding=(1, 1), bias=False)\n",
       "      (bn1): BatchNorm2d(64, eps=1e-05, momentum=0.1, affine=True, track_running_stats=True)\n",
       "      (relu): ReLU(inplace=True)\n",
       "      (conv2): Conv2d(64, 64, kernel_size=(3, 3), stride=(1, 1), padding=(1, 1), bias=False)\n",
       "      (bn2): BatchNorm2d(64, eps=1e-05, momentum=0.1, affine=True, track_running_stats=True)\n",
       "    )\n",
       "  )\n",
       "  (layer2): Sequential(\n",
       "    (0): BasicBlock(\n",
       "      (conv1): Conv2d(64, 128, kernel_size=(3, 3), stride=(2, 2), padding=(1, 1), bias=False)\n",
       "      (bn1): BatchNorm2d(128, eps=1e-05, momentum=0.1, affine=True, track_running_stats=True)\n",
       "      (relu): ReLU(inplace=True)\n",
       "      (conv2): Conv2d(128, 128, kernel_size=(3, 3), stride=(1, 1), padding=(1, 1), bias=False)\n",
       "      (bn2): BatchNorm2d(128, eps=1e-05, momentum=0.1, affine=True, track_running_stats=True)\n",
       "      (downsample): Sequential(\n",
       "        (0): Conv2d(64, 128, kernel_size=(1, 1), stride=(2, 2), bias=False)\n",
       "        (1): BatchNorm2d(128, eps=1e-05, momentum=0.1, affine=True, track_running_stats=True)\n",
       "      )\n",
       "    )\n",
       "    (1): BasicBlock(\n",
       "      (conv1): Conv2d(128, 128, kernel_size=(3, 3), stride=(1, 1), padding=(1, 1), bias=False)\n",
       "      (bn1): BatchNorm2d(128, eps=1e-05, momentum=0.1, affine=True, track_running_stats=True)\n",
       "      (relu): ReLU(inplace=True)\n",
       "      (conv2): Conv2d(128, 128, kernel_size=(3, 3), stride=(1, 1), padding=(1, 1), bias=False)\n",
       "      (bn2): BatchNorm2d(128, eps=1e-05, momentum=0.1, affine=True, track_running_stats=True)\n",
       "    )\n",
       "  )\n",
       "  (layer3): Sequential(\n",
       "    (0): BasicBlock(\n",
       "      (conv1): Conv2d(128, 256, kernel_size=(3, 3), stride=(2, 2), padding=(1, 1), bias=False)\n",
       "      (bn1): BatchNorm2d(256, eps=1e-05, momentum=0.1, affine=True, track_running_stats=True)\n",
       "      (relu): ReLU(inplace=True)\n",
       "      (conv2): Conv2d(256, 256, kernel_size=(3, 3), stride=(1, 1), padding=(1, 1), bias=False)\n",
       "      (bn2): BatchNorm2d(256, eps=1e-05, momentum=0.1, affine=True, track_running_stats=True)\n",
       "      (downsample): Sequential(\n",
       "        (0): Conv2d(128, 256, kernel_size=(1, 1), stride=(2, 2), bias=False)\n",
       "        (1): BatchNorm2d(256, eps=1e-05, momentum=0.1, affine=True, track_running_stats=True)\n",
       "      )\n",
       "    )\n",
       "    (1): BasicBlock(\n",
       "      (conv1): Conv2d(256, 256, kernel_size=(3, 3), stride=(1, 1), padding=(1, 1), bias=False)\n",
       "      (bn1): BatchNorm2d(256, eps=1e-05, momentum=0.1, affine=True, track_running_stats=True)\n",
       "      (relu): ReLU(inplace=True)\n",
       "      (conv2): Conv2d(256, 256, kernel_size=(3, 3), stride=(1, 1), padding=(1, 1), bias=False)\n",
       "      (bn2): BatchNorm2d(256, eps=1e-05, momentum=0.1, affine=True, track_running_stats=True)\n",
       "    )\n",
       "  )\n",
       "  (layer4): Sequential(\n",
       "    (0): BasicBlock(\n",
       "      (conv1): Conv2d(256, 512, kernel_size=(3, 3), stride=(2, 2), padding=(1, 1), bias=False)\n",
       "      (bn1): BatchNorm2d(512, eps=1e-05, momentum=0.1, affine=True, track_running_stats=True)\n",
       "      (relu): ReLU(inplace=True)\n",
       "      (conv2): Conv2d(512, 512, kernel_size=(3, 3), stride=(1, 1), padding=(1, 1), bias=False)\n",
       "      (bn2): BatchNorm2d(512, eps=1e-05, momentum=0.1, affine=True, track_running_stats=True)\n",
       "      (downsample): Sequential(\n",
       "        (0): Conv2d(256, 512, kernel_size=(1, 1), stride=(2, 2), bias=False)\n",
       "        (1): BatchNorm2d(512, eps=1e-05, momentum=0.1, affine=True, track_running_stats=True)\n",
       "      )\n",
       "    )\n",
       "    (1): BasicBlock(\n",
       "      (conv1): Conv2d(512, 512, kernel_size=(3, 3), stride=(1, 1), padding=(1, 1), bias=False)\n",
       "      (bn1): BatchNorm2d(512, eps=1e-05, momentum=0.1, affine=True, track_running_stats=True)\n",
       "      (relu): ReLU(inplace=True)\n",
       "      (conv2): Conv2d(512, 512, kernel_size=(3, 3), stride=(1, 1), padding=(1, 1), bias=False)\n",
       "      (bn2): BatchNorm2d(512, eps=1e-05, momentum=0.1, affine=True, track_running_stats=True)\n",
       "    )\n",
       "  )\n",
       "  (avgpool): AdaptiveAvgPool2d(output_size=(1, 1))\n",
       "  (fc): Linear(in_features=512, out_features=6, bias=True)\n",
       ")"
      ]
     },
     "execution_count": 5,
     "metadata": {},
     "output_type": "execute_result"
    }
   ],
   "source": [
    "model"
   ]
  },
  {
   "cell_type": "code",
   "execution_count": 6,
   "id": "0a4dda05-7510-40a5-bc6f-6df80fdc4c64",
   "metadata": {},
   "outputs": [],
   "source": [
    "model_trunc = create_feature_extractor(model, return_nodes={'avgpool': 'semantic_feature'})"
   ]
  },
  {
   "cell_type": "markdown",
   "id": "1b7137df-1c4a-452e-be96-de7ec6a5d85e",
   "metadata": {},
   "source": [
    "## 计算单张图像的语义特征"
   ]
  },
  {
   "cell_type": "code",
   "execution_count": 10,
   "id": "157f9102-fc51-468e-a43e-1a9256dfe22a",
   "metadata": {},
   "outputs": [],
   "source": [
    "img_path = 'Particle Figures_split/val/Subrounded/Subrounded (118).jpg'\n",
    "img_pil = Image.open(img_path)\n",
    "input_img = test_transform(img_pil) # 预处理\n",
    "input_img = input_img.unsqueeze(0).to(device)\n",
    "# 执行前向预测，得到指定中间层的输出\n",
    "pred_logits = model_trunc(input_img) "
   ]
  },
  {
   "cell_type": "code",
   "execution_count": 11,
   "id": "108eb111-dc92-408c-8bf8-6111ad6a28e7",
   "metadata": {},
   "outputs": [
    {
     "data": {
      "text/plain": [
       "(512,)"
      ]
     },
     "execution_count": 11,
     "metadata": {},
     "output_type": "execute_result"
    }
   ],
   "source": [
    "pred_logits['semantic_feature'].squeeze().detach().cpu().numpy().shape"
   ]
  },
  {
   "cell_type": "code",
   "execution_count": 12,
   "id": "f70ba1f3-02c3-4bc7-92c2-5b0ee5a76762",
   "metadata": {},
   "outputs": [
    {
     "data": {
      "text/plain": [
       "array([3.57622802e-01, 2.74432158e+00, 4.54366624e-01, 3.13249946e-01,\n",
       "       9.51173246e-01, 1.93364418e+00, 5.63114166e-01, 1.25701833e+00,\n",
       "       1.69599224e-02, 7.80059472e-02, 7.16230035e-01, 1.56417751e+00,\n",
       "       2.15641665e+00, 3.20910499e-03, 2.95293522e+00, 2.87022412e-01,\n",
       "       2.70752096e+00, 2.04778123e+00, 9.03674185e-01, 9.58989412e-02,\n",
       "       5.83214343e-01, 2.62369633e-01, 4.29129273e-01, 5.19005954e-01,\n",
       "       7.05936670e-01, 1.49380192e-02, 1.42471874e+00, 3.71838689e-01,\n",
       "       9.17355716e-01, 1.18289679e-01, 1.34165871e+00, 2.54763573e-01,\n",
       "       5.40444613e-01, 4.50425774e-01, 9.50839758e-01, 3.81728113e-01,\n",
       "       0.00000000e+00, 3.13819671e+00, 8.45684856e-02, 1.23655641e+00,\n",
       "       9.80314910e-01, 6.35334134e-01, 6.64814472e-01, 5.87586701e-01,\n",
       "       6.59596264e-01, 2.05589056e-01, 1.95308760e-01, 1.78505585e-01,\n",
       "       2.19146776e+00, 1.34618962e+00, 1.02341783e+00, 1.11081815e+00,\n",
       "       7.30819702e-01, 1.86079895e+00, 9.73689258e-01, 2.49367118e+00,\n",
       "       4.00510520e-01, 1.75852060e+00, 6.42983198e-01, 1.70061815e+00,\n",
       "       3.29199314e+00, 7.92896748e-01, 1.38282645e+00, 0.00000000e+00,\n",
       "       1.14114523e-01, 2.37530613e+00, 5.02660096e-01, 6.19519949e-01,\n",
       "       1.07778847e+00, 1.51426777e-01, 5.33116043e-01, 3.17259073e-01,\n",
       "       1.31356812e+00, 6.63350403e-01, 3.74438190e+00, 1.39376521e-01,\n",
       "       1.38880920e+00, 1.07767248e+00, 5.66444337e-01, 5.42700529e-01,\n",
       "       1.30014396e+00, 4.72394437e-01, 4.13035214e-01, 3.13118100e-01,\n",
       "       1.52466404e+00, 3.21389109e-01, 7.89642811e-01, 3.94590783e+00,\n",
       "       3.28810424e-01, 6.43839389e-02, 1.06307483e+00, 1.56302083e+00,\n",
       "       2.43438053e+00, 9.39857066e-01, 2.67275274e-01, 3.25542688e-01,\n",
       "       3.96125466e-01, 6.11797571e-01, 3.08701247e-01, 6.71269000e-01,\n",
       "       2.29287982e+00, 8.82090628e-01, 7.79458165e-01, 1.31304479e+00,\n",
       "       1.14008963e-01, 2.02406669e+00, 9.57266033e-01, 1.20924020e+00,\n",
       "       1.75441816e-01, 1.21818207e-01, 9.90505219e-02, 5.24241626e-01,\n",
       "       2.04909965e-02, 1.83291066e+00, 1.51116788e+00, 4.83233571e-01,\n",
       "       9.66585636e-01, 4.40536886e-01, 2.42456079e+00, 1.39087415e+00,\n",
       "       6.22738898e-01, 4.35629189e-01, 1.22743988e+00, 2.90638596e-01,\n",
       "       4.09283966e-01, 4.58883911e-01, 6.80361807e-01, 1.33384109e+00,\n",
       "       3.11367393e-01, 1.75767696e+00, 1.89312720e+00, 4.44965661e-01,\n",
       "       2.05996886e-01, 2.89331853e-01, 5.37332416e-01, 3.07111382e-01,\n",
       "       1.32549202e+00, 4.72339451e-01, 5.31991422e-01, 1.63082659e-01,\n",
       "       4.53453511e-01, 2.70954895e+00, 1.73220170e+00, 1.02508974e+00,\n",
       "       1.74793944e-01, 2.17367363e+00, 3.50481451e-01, 1.03681552e+00,\n",
       "       4.02852923e-01, 1.86206484e+00, 7.78917596e-02, 1.07505608e+00,\n",
       "       1.97178102e+00, 7.46786535e-01, 8.35366666e-01, 2.33477211e+00,\n",
       "       5.75419962e-01, 2.52978969e+00, 1.09706726e-02, 1.90782535e+00,\n",
       "       8.24257374e-01, 7.88346708e-01, 1.90628815e+00, 8.11049283e-01,\n",
       "       2.11215839e-01, 6.89597130e-01, 2.60126621e-01, 1.65369487e+00,\n",
       "       2.60058135e-01, 9.06723797e-01, 1.81394927e-02, 8.48061442e-01,\n",
       "       3.98853451e-01, 7.62237251e-01, 6.21118620e-02, 4.71011281e-01,\n",
       "       6.59979761e-01, 5.59426136e-02, 1.32301986e+00, 2.23867941e+00,\n",
       "       1.07668459e+00, 1.11242056e+00, 2.51629680e-01, 3.67098272e-01,\n",
       "       7.99340904e-01, 1.57923651e+00, 7.32887149e-01, 2.38341498e+00,\n",
       "       2.98579311e+00, 2.34782815e-01, 8.73627812e-02, 1.97746545e-01,\n",
       "       5.16379535e-01, 9.07721758e-01, 1.16312683e-01, 3.17515731e-01,\n",
       "       3.59523386e-01, 5.24290681e-01, 1.41983241e-01, 2.97346920e-01,\n",
       "       7.15066314e-01, 2.77242446e+00, 4.23679084e-01, 6.33993924e-01,\n",
       "       3.12902451e-01, 1.86447680e-01, 2.17872679e-01, 1.03715487e-01,\n",
       "       8.39266241e-01, 5.24903119e-01, 9.66675818e-01, 6.81831360e-01,\n",
       "       1.49365306e-01, 1.53069222e+00, 2.61068726e+00, 8.78355026e-01,\n",
       "       1.13735041e-02, 2.10356489e-01, 4.80382472e-01, 3.38221639e-01,\n",
       "       2.52304018e-01, 3.12269568e-01, 1.12203240e+00, 1.61609530e-01,\n",
       "       6.49544835e-01, 1.49384129e+00, 1.43185139e+00, 5.34807682e-01,\n",
       "       1.43693211e-02, 1.60243547e+00, 6.97356939e-01, 1.18086803e+00,\n",
       "       8.87753721e-03, 2.24397278e+00, 4.02313381e-01, 1.35608268e+00,\n",
       "       2.53745317e-01, 2.59991139e-01, 3.89077812e-01, 4.09475267e-01,\n",
       "       5.90827823e-01, 6.74915910e-01, 2.44506642e-01, 1.15790918e-01,\n",
       "       6.00113809e-01, 7.90114462e-01, 4.55444843e-01, 1.14472210e+00,\n",
       "       6.94477856e-01, 1.95831835e-01, 2.81998426e-01, 1.16276038e+00,\n",
       "       1.68233609e+00, 7.42792845e-01, 1.19106138e+00, 1.16706991e+00,\n",
       "       5.15954159e-02, 4.00403595e+00, 7.28018284e-01, 2.21006799e+00,\n",
       "       1.26855123e+00, 4.38403130e-01, 3.19317758e-01, 5.62753201e-01,\n",
       "       3.00629020e+00, 6.43049181e-02, 1.68705034e+00, 7.21674338e-02,\n",
       "       3.74724939e-02, 4.74312901e-01, 1.20368338e+00, 7.69152462e-01,\n",
       "       1.39424396e+00, 1.20489085e+00, 9.99170184e-01, 5.30246079e-01,\n",
       "       1.94752967e+00, 6.12164319e-01, 1.77086160e-01, 2.50716120e-01,\n",
       "       8.19602430e-01, 1.47063583e-01, 2.01240993e+00, 1.90280661e-01,\n",
       "       2.42372736e-01, 8.84410515e-02, 8.94600391e-01, 5.72255850e-01,\n",
       "       2.20979714e+00, 1.36129177e+00, 1.53054988e+00, 3.88490945e-01,\n",
       "       1.61498392e+00, 8.59701261e-02, 1.44804037e+00, 5.52128196e-01,\n",
       "       3.45922649e-01, 2.99173617e+00, 1.26378489e+00, 9.23737705e-01,\n",
       "       5.13531089e-01, 6.64005429e-02, 5.12469828e-01, 9.61839706e-02,\n",
       "       4.32927191e-01, 1.24136806e+00, 1.29248410e-01, 9.95376110e-01,\n",
       "       4.42636549e-01, 1.92177799e-02, 1.84066319e+00, 1.38320637e+00,\n",
       "       1.48323977e+00, 8.48884940e-01, 2.72338986e-01, 2.88328737e-01,\n",
       "       2.29530835e+00, 2.10164025e-01, 3.59791636e-01, 7.56999254e-01,\n",
       "       1.80177689e-01, 9.11220610e-01, 1.17337748e-01, 2.00576925e+00,\n",
       "       2.33572793e+00, 5.84292173e-01, 0.00000000e+00, 3.22685659e-01,\n",
       "       8.34516659e-02, 2.11236477e-01, 1.04488111e+00, 3.78655434e+00,\n",
       "       7.19644725e-01, 5.20082526e-02, 8.67321551e-01, 1.11906028e+00,\n",
       "       1.90297708e-01, 8.89873147e-01, 1.35494959e+00, 1.14127064e+00,\n",
       "       3.37555438e-01, 7.93591514e-02, 2.36847186e+00, 9.63653862e-01,\n",
       "       9.95320499e-01, 1.96920466e+00, 5.19097984e-01, 7.35563874e-01,\n",
       "       2.53812313e-01, 6.99313641e-01, 1.91387188e+00, 1.59610868e+00,\n",
       "       1.00699258e+00, 7.05906749e-01, 7.40763247e-02, 1.88212860e+00,\n",
       "       1.00305555e-02, 8.51973534e-01, 2.03661227e+00, 1.58983815e+00,\n",
       "       6.89195752e-01, 0.00000000e+00, 0.00000000e+00, 9.11617279e-02,\n",
       "       2.35262647e-01, 1.66171527e+00, 2.73741335e-01, 2.78524071e-01,\n",
       "       1.06614888e+00, 7.62112252e-03, 1.19975734e+00, 1.41019002e-01,\n",
       "       4.57316786e-01, 2.00867009e+00, 8.51326764e-01, 3.16493005e-01,\n",
       "       3.42893869e-01, 2.89300382e-01, 1.71548641e+00, 2.00591981e-01,\n",
       "       4.49751407e-01, 2.19598845e-01, 1.12986214e-01, 3.04097503e-01,\n",
       "       6.87038958e-01, 2.90844631e+00, 1.92127675e-01, 2.06783223e+00,\n",
       "       9.18907166e-01, 6.44757569e-01, 3.19309443e-01, 5.17357647e-01,\n",
       "       9.63232696e-01, 6.06622756e-01, 2.28924322e+00, 8.63739610e-01,\n",
       "       3.16528678e-01, 2.78730065e-01, 2.67623842e-01, 2.50664473e+00,\n",
       "       2.73556018e+00, 9.83704746e-01, 1.67169213e+00, 4.53524292e-01,\n",
       "       3.17217886e-01, 1.10458279e+00, 1.27314675e+00, 2.29428094e-02,\n",
       "       1.29008079e+00, 9.21262264e-01, 1.72038519e+00, 9.35349166e-01,\n",
       "       1.53804779e-01, 5.53127885e-01, 8.79363835e-01, 1.62850440e-01,\n",
       "       4.76165205e-01, 3.86626944e-02, 3.67930382e-02, 1.10123575e+00,\n",
       "       7.64924347e-01, 1.06575131e+00, 5.32103062e-01, 9.37666893e-01,\n",
       "       1.09489489e+00, 3.13206047e-01, 3.14082712e-01, 2.90589154e-01,\n",
       "       7.15617359e-01, 1.01649994e-02, 1.27651966e+00, 5.35492539e-01,\n",
       "       5.46840620e+00, 6.56306744e-01, 2.11001301e+00, 3.37927550e-01,\n",
       "       5.62324882e-01, 1.46813524e+00, 1.20074821e+00, 5.13460755e-01,\n",
       "       7.17208564e-01, 1.22794080e+00, 6.47179246e-01, 1.39850068e+00,\n",
       "       1.73750484e+00, 1.70941174e+00, 4.17573154e-01, 3.23520660e-01,\n",
       "       2.60652024e-02, 7.88194418e-01, 1.38052389e-01, 4.17927325e-01,\n",
       "       1.85113120e+00, 5.20683348e-01, 5.97134054e-01, 3.37060280e-02,\n",
       "       1.06344044e+00, 9.48879540e-01, 2.19428706e+00, 1.09206772e+00,\n",
       "       1.99336410e+00, 2.94489592e-01, 1.03713703e+00, 1.29667246e+00,\n",
       "       2.81372909e-02, 5.61466813e-01, 8.57430845e-02, 5.38969636e-01,\n",
       "       4.06709850e-01, 1.74377754e-01, 0.00000000e+00, 4.69519734e-01,\n",
       "       1.38372409e+00, 7.47465849e-01, 9.29320931e-01, 5.53178847e-01,\n",
       "       9.95166838e-01, 1.43526107e-01, 8.94690096e-01, 7.06533551e-01,\n",
       "       5.24868704e-02, 1.12324524e+00, 2.69521415e-01, 1.19695199e+00,\n",
       "       5.91308832e-01, 6.66547656e-01, 3.00657302e-01, 9.23891485e-01,\n",
       "       1.75283778e+00, 3.16566527e-01, 2.85440278e+00, 1.13623679e+00,\n",
       "       6.46331489e-01, 1.26401591e+00, 8.77696872e-01, 2.19932818e+00,\n",
       "       1.30484354e+00, 1.83215547e+00, 2.68530512e+00, 6.84610963e-01,\n",
       "       2.12332654e+00, 7.21823096e-01, 2.41245198e+00, 1.29551136e+00,\n",
       "       1.74381375e-01, 2.81803966e-01, 5.90199530e-01, 4.41120595e-01,\n",
       "       7.16570139e-01, 2.58144885e-01, 2.85612702e+00, 8.48683894e-01],\n",
       "      dtype=float32)"
      ]
     },
     "execution_count": 12,
     "metadata": {},
     "output_type": "execute_result"
    }
   ],
   "source": [
    "#看一下这个512的向量\n",
    "pred_logits['semantic_feature'].squeeze().detach().cpu().numpy()"
   ]
  },
  {
   "cell_type": "markdown",
   "id": "b1d681eb-d2af-4e54-bfa2-78590dffafbe",
   "metadata": {},
   "source": [
    "## 载入测试集图像分类结果"
   ]
  },
  {
   "cell_type": "code",
   "execution_count": 15,
   "id": "6bb76734-83d2-49c9-ae35-3240595d5861",
   "metadata": {},
   "outputs": [],
   "source": [
    "df = pd.read_csv('测试集预测结果.csv')"
   ]
  },
  {
   "cell_type": "code",
   "execution_count": 16,
   "id": "6de3a2b3-0035-4f01-afbc-69b87e1af806",
   "metadata": {},
   "outputs": [
    {
     "data": {
      "text/html": [
       "<div>\n",
       "<style scoped>\n",
       "    .dataframe tbody tr th:only-of-type {\n",
       "        vertical-align: middle;\n",
       "    }\n",
       "\n",
       "    .dataframe tbody tr th {\n",
       "        vertical-align: top;\n",
       "    }\n",
       "\n",
       "    .dataframe thead th {\n",
       "        text-align: right;\n",
       "    }\n",
       "</style>\n",
       "<table border=\"1\" class=\"dataframe\">\n",
       "  <thead>\n",
       "    <tr style=\"text-align: right;\">\n",
       "      <th></th>\n",
       "      <th>Image path</th>\n",
       "      <th>Labeling categories ID</th>\n",
       "      <th>Labeling categories name</th>\n",
       "      <th>top-1-Predictions ID</th>\n",
       "      <th>top-1-Predictions name</th>\n",
       "      <th>top-2-Predictions ID</th>\n",
       "      <th>top-2-Predictions name</th>\n",
       "      <th>top-3-Predictions ID</th>\n",
       "      <th>top-3-Predictions name</th>\n",
       "      <th>top-n Predictions correction</th>\n",
       "      <th>Angular-Predictions Confidence Level</th>\n",
       "      <th>Rounded-Predictions Confidence Level</th>\n",
       "      <th>Subangular-Predictions Confidence Level</th>\n",
       "      <th>Subrounded-Predictions Confidence Level</th>\n",
       "      <th>Very angular-Predictions Confidence Level</th>\n",
       "      <th>Well rounded-Predictions Confidence Level</th>\n",
       "    </tr>\n",
       "  </thead>\n",
       "  <tbody>\n",
       "    <tr>\n",
       "      <th>0</th>\n",
       "      <td>Particle Figures_split/val/Angular/Angular (10...</td>\n",
       "      <td>0</td>\n",
       "      <td>Angular</td>\n",
       "      <td>0</td>\n",
       "      <td>Angular</td>\n",
       "      <td>4</td>\n",
       "      <td>Very angular</td>\n",
       "      <td>2</td>\n",
       "      <td>Subangular</td>\n",
       "      <td>True</td>\n",
       "      <td>0.574018</td>\n",
       "      <td>0.003499</td>\n",
       "      <td>0.111645</td>\n",
       "      <td>0.016418</td>\n",
       "      <td>0.294030</td>\n",
       "      <td>0.000390</td>\n",
       "    </tr>\n",
       "    <tr>\n",
       "      <th>1</th>\n",
       "      <td>Particle Figures_split/val/Angular/Angular (10...</td>\n",
       "      <td>0</td>\n",
       "      <td>Angular</td>\n",
       "      <td>3</td>\n",
       "      <td>Subrounded</td>\n",
       "      <td>2</td>\n",
       "      <td>Subangular</td>\n",
       "      <td>0</td>\n",
       "      <td>Angular</td>\n",
       "      <td>True</td>\n",
       "      <td>0.020437</td>\n",
       "      <td>0.010734</td>\n",
       "      <td>0.284462</td>\n",
       "      <td>0.672124</td>\n",
       "      <td>0.012037</td>\n",
       "      <td>0.000206</td>\n",
       "    </tr>\n",
       "    <tr>\n",
       "      <th>2</th>\n",
       "      <td>Particle Figures_split/val/Angular/Angular (11...</td>\n",
       "      <td>0</td>\n",
       "      <td>Angular</td>\n",
       "      <td>0</td>\n",
       "      <td>Angular</td>\n",
       "      <td>2</td>\n",
       "      <td>Subangular</td>\n",
       "      <td>4</td>\n",
       "      <td>Very angular</td>\n",
       "      <td>True</td>\n",
       "      <td>0.510571</td>\n",
       "      <td>0.087094</td>\n",
       "      <td>0.166346</td>\n",
       "      <td>0.104690</td>\n",
       "      <td>0.122172</td>\n",
       "      <td>0.009128</td>\n",
       "    </tr>\n",
       "    <tr>\n",
       "      <th>3</th>\n",
       "      <td>Particle Figures_split/val/Angular/Angular (13...</td>\n",
       "      <td>0</td>\n",
       "      <td>Angular</td>\n",
       "      <td>0</td>\n",
       "      <td>Angular</td>\n",
       "      <td>2</td>\n",
       "      <td>Subangular</td>\n",
       "      <td>4</td>\n",
       "      <td>Very angular</td>\n",
       "      <td>True</td>\n",
       "      <td>0.425345</td>\n",
       "      <td>0.004741</td>\n",
       "      <td>0.424306</td>\n",
       "      <td>0.027567</td>\n",
       "      <td>0.117619</td>\n",
       "      <td>0.000422</td>\n",
       "    </tr>\n",
       "    <tr>\n",
       "      <th>4</th>\n",
       "      <td>Particle Figures_split/val/Angular/Angular (13...</td>\n",
       "      <td>0</td>\n",
       "      <td>Angular</td>\n",
       "      <td>0</td>\n",
       "      <td>Angular</td>\n",
       "      <td>2</td>\n",
       "      <td>Subangular</td>\n",
       "      <td>4</td>\n",
       "      <td>Very angular</td>\n",
       "      <td>True</td>\n",
       "      <td>0.682034</td>\n",
       "      <td>0.010761</td>\n",
       "      <td>0.177304</td>\n",
       "      <td>0.050383</td>\n",
       "      <td>0.074711</td>\n",
       "      <td>0.004807</td>\n",
       "    </tr>\n",
       "  </tbody>\n",
       "</table>\n",
       "</div>"
      ],
      "text/plain": [
       "                                          Image path  Labeling categories ID  \\\n",
       "0  Particle Figures_split/val/Angular/Angular (10...                       0   \n",
       "1  Particle Figures_split/val/Angular/Angular (10...                       0   \n",
       "2  Particle Figures_split/val/Angular/Angular (11...                       0   \n",
       "3  Particle Figures_split/val/Angular/Angular (13...                       0   \n",
       "4  Particle Figures_split/val/Angular/Angular (13...                       0   \n",
       "\n",
       "  Labeling categories name  top-1-Predictions ID top-1-Predictions name  \\\n",
       "0                  Angular                     0                Angular   \n",
       "1                  Angular                     3             Subrounded   \n",
       "2                  Angular                     0                Angular   \n",
       "3                  Angular                     0                Angular   \n",
       "4                  Angular                     0                Angular   \n",
       "\n",
       "   top-2-Predictions ID top-2-Predictions name  top-3-Predictions ID  \\\n",
       "0                     4           Very angular                     2   \n",
       "1                     2             Subangular                     0   \n",
       "2                     2             Subangular                     4   \n",
       "3                     2             Subangular                     4   \n",
       "4                     2             Subangular                     4   \n",
       "\n",
       "  top-3-Predictions name  top-n Predictions correction  \\\n",
       "0             Subangular                          True   \n",
       "1                Angular                          True   \n",
       "2           Very angular                          True   \n",
       "3           Very angular                          True   \n",
       "4           Very angular                          True   \n",
       "\n",
       "   Angular-Predictions Confidence Level  Rounded-Predictions Confidence Level  \\\n",
       "0                              0.574018                              0.003499   \n",
       "1                              0.020437                              0.010734   \n",
       "2                              0.510571                              0.087094   \n",
       "3                              0.425345                              0.004741   \n",
       "4                              0.682034                              0.010761   \n",
       "\n",
       "   Subangular-Predictions Confidence Level  \\\n",
       "0                                 0.111645   \n",
       "1                                 0.284462   \n",
       "2                                 0.166346   \n",
       "3                                 0.424306   \n",
       "4                                 0.177304   \n",
       "\n",
       "   Subrounded-Predictions Confidence Level  \\\n",
       "0                                 0.016418   \n",
       "1                                 0.672124   \n",
       "2                                 0.104690   \n",
       "3                                 0.027567   \n",
       "4                                 0.050383   \n",
       "\n",
       "   Very angular-Predictions Confidence Level  \\\n",
       "0                                   0.294030   \n",
       "1                                   0.012037   \n",
       "2                                   0.122172   \n",
       "3                                   0.117619   \n",
       "4                                   0.074711   \n",
       "\n",
       "   Well rounded-Predictions Confidence Level  \n",
       "0                                   0.000390  \n",
       "1                                   0.000206  \n",
       "2                                   0.009128  \n",
       "3                                   0.000422  \n",
       "4                                   0.004807  "
      ]
     },
     "execution_count": 16,
     "metadata": {},
     "output_type": "execute_result"
    }
   ],
   "source": [
    "df.head()"
   ]
  },
  {
   "cell_type": "markdown",
   "id": "74e7d010-df35-4fb9-8dcb-1af2d5399681",
   "metadata": {},
   "source": [
    "## 计算测试集每张图像的语义特征"
   ]
  },
  {
   "cell_type": "code",
   "execution_count": 17,
   "id": "0d630667-6b6b-4fdd-8c4d-28286499330b",
   "metadata": {},
   "outputs": [
    {
     "name": "stderr",
     "output_type": "stream",
     "text": [
      "100%|██████████| 248/248 [00:05<00:00, 45.02it/s]\n"
     ]
    }
   ],
   "source": [
    "encoding_array = []\n",
    "img_path_list = []\n",
    "\n",
    "for img_path in tqdm(df['Image path']):\n",
    "    img_path_list.append(img_path)\n",
    "    img_pil = Image.open(img_path).convert('RGB')\n",
    "    input_img = test_transform(img_pil).unsqueeze(0).to(device) # 预处理\n",
    "    feature = model_trunc(input_img)['semantic_feature'].squeeze().detach().cpu().numpy() # 执行前向预测，得到 avgpool 层输出的语义特征\n",
    "    encoding_array.append(feature)\n",
    "encoding_array = np.array(encoding_array)"
   ]
  },
  {
   "cell_type": "code",
   "execution_count": 18,
   "id": "fec12f5b-35d0-4367-8ac1-7d7321eecee9",
   "metadata": {},
   "outputs": [
    {
     "data": {
      "text/plain": [
       "(248, 512)"
      ]
     },
     "execution_count": 18,
     "metadata": {},
     "output_type": "execute_result"
    }
   ],
   "source": [
    "encoding_array.shape"
   ]
  },
  {
   "cell_type": "markdown",
   "id": "c434aad3-9689-4e77-bef7-1daa4400e590",
   "metadata": {},
   "source": [
    "## 保存为本地的.npy文件"
   ]
  },
  {
   "cell_type": "code",
   "execution_count": 19,
   "id": "896a318d-430c-4b59-9c94-0b08ba0106dd",
   "metadata": {},
   "outputs": [],
   "source": [
    "# 保存为本地的 npy 文件\n",
    "np.save('测试集语义特征.npy', encoding_array)"
   ]
  },
  {
   "cell_type": "code",
   "execution_count": null,
   "id": "4417cdc4-0bad-428c-896f-1d35d31401a8",
   "metadata": {},
   "outputs": [],
   "source": []
  }
 ],
 "metadata": {
  "kernelspec": {
   "display_name": "Python 3 (ipykernel)",
   "language": "python",
   "name": "python3"
  },
  "language_info": {
   "codemirror_mode": {
    "name": "ipython",
    "version": 3
   },
   "file_extension": ".py",
   "mimetype": "text/x-python",
   "name": "python",
   "nbconvert_exporter": "python",
   "pygments_lexer": "ipython3",
   "version": "3.10.12"
  }
 },
 "nbformat": 4,
 "nbformat_minor": 5
}
