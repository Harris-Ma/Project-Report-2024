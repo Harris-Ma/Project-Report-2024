{
 "cells": [
  {
   "cell_type": "markdown",
   "id": "302df6ef-7c1e-417c-85b5-dc62d2acada0",
   "metadata": {},
   "source": [
    "### ImageNet预训练图像分类模型预测视频文件"
   ]
  },
  {
   "cell_type": "code",
   "execution_count": 19,
   "id": "b2afe1ae-ad3d-41aa-aed2-63c96bde79f0",
   "metadata": {},
   "outputs": [
    {
     "name": "stdout",
     "output_type": "stream",
     "text": [
      "device: cuda:0\n"
     ]
    }
   ],
   "source": [
    "import os\n",
    "import time\n",
    "import shutil\n",
    "import tempfile\n",
    "from tqdm import tqdm\n",
    "\n",
    "import cv2\n",
    "from PIL import Image\n",
    "\n",
    "import numpy as np\n",
    "import pandas as pd\n",
    "import matplotlib.pyplot as plt\n",
    "%matplotlib inline\n",
    "plt.rcParams['axes.unicode_minus']=False  # 用来正常显示负号\n",
    "plt.rcParams['font.sans-serif']=['DejaVu Sans']  # 用来正常显示中文标签\n",
    "import gc\n",
    "\n",
    "import torch\n",
    "import torch.nn.functional as F\n",
    "from torchvision import models\n",
    "\n",
    "import mmcv\n",
    "\n",
    "# 有 GPU 就用 GPU，没有就用 CPU\n",
    "device = torch.device('cuda:0' if torch.cuda.is_available() else 'cpu')\n",
    "print('device:', device)"
   ]
  },
  {
   "cell_type": "code",
   "execution_count": 20,
   "id": "48c6d826-b802-41c1-bbbc-8654763c7e5a",
   "metadata": {},
   "outputs": [
    {
     "name": "stdout",
     "output_type": "stream",
     "text": [
      "DejaVu Sans\n",
      "DejaVu Sans\n",
      "DejaVu Sans\n",
      "DejaVu Sans\n",
      "DejaVu Sans Display\n",
      "DejaVu Sans Mono\n",
      "DejaVu Sans Mono\n",
      "DejaVu Sans Mono\n",
      "DejaVu Sans Mono\n",
      "DejaVu Serif\n",
      "DejaVu Serif\n",
      "DejaVu Serif\n",
      "DejaVu Serif\n",
      "DejaVu Serif Display\n",
      "Liberation Mono\n",
      "Liberation Mono\n",
      "Liberation Mono\n",
      "Liberation Mono\n",
      "Liberation Sans\n",
      "Liberation Sans\n",
      "Liberation Sans\n",
      "Liberation Sans\n",
      "Liberation Sans Narrow\n",
      "Liberation Sans Narrow\n",
      "Liberation Sans Narrow\n",
      "Liberation Sans Narrow\n",
      "Liberation Serif\n",
      "Liberation Serif\n",
      "Liberation Serif\n",
      "Liberation Serif\n",
      "STIXGeneral\n",
      "STIXGeneral\n",
      "STIXGeneral\n",
      "STIXGeneral\n",
      "STIXNonUnicode\n",
      "STIXNonUnicode\n",
      "STIXNonUnicode\n",
      "STIXNonUnicode\n",
      "STIXSizeFiveSym\n",
      "STIXSizeFourSym\n",
      "STIXSizeFourSym\n",
      "STIXSizeOneSym\n",
      "STIXSizeOneSym\n",
      "STIXSizeThreeSym\n",
      "STIXSizeThreeSym\n",
      "STIXSizeTwoSym\n",
      "STIXSizeTwoSym\n",
      "cmb10\n",
      "cmex10\n",
      "cmmi10\n",
      "cmr10\n",
      "cmss10\n",
      "cmsy10\n",
      "cmtt10\n"
     ]
    }
   ],
   "source": [
    "font_list=sorted([f.name for f in matplotlib.font_manager.fontManager.ttflist])\n",
    "for i in font_list:\n",
    "    print(i)"
   ]
  },
  {
   "cell_type": "code",
   "execution_count": 21,
   "id": "23268ccd-5b79-4e69-bb4e-e0fbe5a7ae93",
   "metadata": {},
   "outputs": [],
   "source": [
    "# 后端绘图，不显示，只保存\n",
    "import matplotlib\n",
    "matplotlib.use('Agg')"
   ]
  },
  {
   "cell_type": "markdown",
   "id": "d5d14579-d138-47cd-967d-dd2bb74cfa88",
   "metadata": {},
   "source": [
    "### 载入预训练图像分类模型"
   ]
  },
  {
   "cell_type": "code",
   "execution_count": 22,
   "id": "8c5b7626-1131-45fe-b5fa-0dff34ba581e",
   "metadata": {},
   "outputs": [
    {
     "name": "stderr",
     "output_type": "stream",
     "text": [
      "/environment/miniconda3/lib/python3.10/site-packages/torchvision/models/_utils.py:223: UserWarning: Arguments other than a weight enum or `None` for 'weights' are deprecated since 0.13 and may be removed in the future. The current behavior is equivalent to passing `weights=ResNet18_Weights.IMAGENET1K_V1`. You can also use `weights=ResNet18_Weights.DEFAULT` to get the most up-to-date weights.\n",
      "  warnings.warn(msg)\n"
     ]
    }
   ],
   "source": [
    "model = models.resnet18(weights=True)\n",
    "model = model.eval()\n",
    "model = model.to(device)"
   ]
  },
  {
   "cell_type": "markdown",
   "id": "68147a7b-d7ef-425c-bd71-ce1f7988cf47",
   "metadata": {},
   "source": [
    "### 载入ImageNet 1000图像分类标签"
   ]
  },
  {
   "cell_type": "code",
   "execution_count": 23,
   "id": "c820dd7c-f844-440b-9c5e-7716c658495c",
   "metadata": {},
   "outputs": [],
   "source": [
    "df = pd.read_csv('imagenet_class_index.csv')\n",
    "idx_to_labels = {}\n",
    "for idx, row in df.iterrows():\n",
    "    idx_to_labels[row['ID']] = [row['wordnet'], row['class']]"
   ]
  },
  {
   "cell_type": "code",
   "execution_count": 24,
   "id": "a6a8a4ae-1b75-4f66-ac4c-68129e51e056",
   "metadata": {},
   "outputs": [],
   "source": [
    "# idx_to_labels"
   ]
  },
  {
   "cell_type": "markdown",
   "id": "bcf12f4b-a61c-4182-a415-f9ec0971db7e",
   "metadata": {},
   "source": [
    "### 图像预处理"
   ]
  },
  {
   "cell_type": "code",
   "execution_count": 25,
   "id": "c7a3f55e-089c-46af-8b0c-669eea1a4810",
   "metadata": {},
   "outputs": [],
   "source": [
    "from torchvision import transforms\n",
    "\n",
    "# 测试集图像预处理-RCTN：缩放裁剪、转 Tensor、归一化\n",
    "test_transform = transforms.Compose([transforms.Resize(256),\n",
    "                                     transforms.CenterCrop(224),\n",
    "                                     transforms.ToTensor(),\n",
    "                                     transforms.Normalize(\n",
    "                                         mean=[0.485, 0.456, 0.406], \n",
    "                                         std=[0.229, 0.224, 0.225])\n",
    "                                    ])"
   ]
  },
  {
   "cell_type": "markdown",
   "id": "747bb6b0-f8be-4d59-87e6-822580a157f3",
   "metadata": {},
   "source": [
    "### 图像分类预测函数"
   ]
  },
  {
   "cell_type": "code",
   "execution_count": 26,
   "id": "99fe89e6-8c1a-45de-a45d-16c4a79a3f62",
   "metadata": {},
   "outputs": [],
   "source": [
    "def pred_single_frame(img, n=5):\n",
    "    '''\n",
    "    输入摄像头画面bgr-array，输出前n个图像分类预测结果的图像bgr-array\n",
    "    '''\n",
    "    img_bgr = img\n",
    "    img_rgb = cv2.cvtColor(img, cv2.COLOR_BGR2RGB) # BGR 转 RGB\n",
    "    img_pil = Image.fromarray(img_rgb) # array 转 pil\n",
    "    input_img = test_transform(img_pil).unsqueeze(0).to(device) # 预处理\n",
    "    pred_logits = model(input_img) # 执行前向预测，得到所有类别的 logit 预测分数\n",
    "    pred_softmax = F.softmax(pred_logits, dim=1) # 对 logit 分数做 softmax 运算\n",
    "    \n",
    "    top_n = torch.topk(pred_softmax, n) # 取置信度最大的 n 个结果\n",
    "    pred_ids = top_n[1].cpu().detach().numpy().squeeze() # 解析出类别\n",
    "    confs = top_n[0].cpu().detach().numpy().squeeze() # 解析出置信度\n",
    "    \n",
    "    # 在图像上写字\n",
    "    for i in range(n):\n",
    "        class_name = idx_to_labels[pred_ids[i]][1] # 获取类别名称\n",
    "        confidence = confs[i] * 100 # 获取置信度\n",
    "        text = '{:<15} {:>.4f}'.format(class_name, confidence)\n",
    "\n",
    "        # !图片，添加的文字，左上角坐标，字体，字号，bgr颜色，线宽\n",
    "        img_bgr = cv2.putText(img_bgr, text, (25, 50 + 40 * i), cv2.FONT_HERSHEY_SIMPLEX, 1.25, (0, 0, 255), 3)\n",
    "        \n",
    "    return img_bgr, pred_softmax"
   ]
  },
  {
   "cell_type": "markdown",
   "id": "2b5ef757-f84b-48f0-99f4-526ea1dda6a2",
   "metadata": {},
   "source": [
    "### 视频预测"
   ]
  },
  {
   "cell_type": "markdown",
   "id": "9553956a-41b9-46c3-8a49-0d67959bf663",
   "metadata": {},
   "source": [
    "#### 输入输出视频路径"
   ]
  },
  {
   "cell_type": "code",
   "execution_count": 27,
   "id": "cac4f059-4c26-495c-b5d3-4114c825e2ef",
   "metadata": {},
   "outputs": [],
   "source": [
    "input_video = 'test_img/Video_1.mp4'"
   ]
  },
  {
   "cell_type": "markdown",
   "id": "eee4d6c1-b41b-4130-aebc-e401c5431537",
   "metadata": {},
   "source": [
    "### 可视化Plan 1：原始图像+预测结果文字"
   ]
  },
  {
   "cell_type": "code",
   "execution_count": 13,
   "id": "541853b9-a23e-42fe-9274-a5630bd017c8",
   "metadata": {},
   "outputs": [
    {
     "name": "stdout",
     "output_type": "stream",
     "text": [
      "创建文件夹 20240420170730 用于存放每帧预测结果\n"
     ]
    }
   ],
   "source": [
    "# 创建临时文件夹，存放每帧结果\n",
    "temp_out_dir = time.strftime('%Y%m%d%H%M%S')\n",
    "os.mkdir(temp_out_dir)\n",
    "print('创建文件夹 {} 用于存放每帧预测结果'.format(temp_out_dir))"
   ]
  },
  {
   "cell_type": "code",
   "execution_count": 14,
   "id": "248bd553-fc74-4009-98aa-41ccef4c86ff",
   "metadata": {},
   "outputs": [
    {
     "name": "stdout",
     "output_type": "stream",
     "text": [
      "[>>>>>>>>>>>>>>>>>>>>>>>>>>>>>>] 353/353, 41.8 task/s, elapsed: 8s, ETA:     0s[                                                  ] 0/353, elapsed: 0s, ETA:\n",
      "删除临时文件夹 20240420170730\n"
     ]
    }
   ],
   "source": [
    "# 读入待预测视频\n",
    "imgs = mmcv.VideoReader(input_video)\n",
    "\n",
    "prog_bar = mmcv.ProgressBar(len(imgs))\n",
    "\n",
    "# 对视频逐帧处理\n",
    "for frame_id, img in enumerate(imgs):\n",
    "    \n",
    "    ## 处理单帧画面\n",
    "    img, pred_softmax = pred_single_frame(img, n=5)\n",
    "\n",
    "    # 将处理后的该帧画面图像文件，保存至 /tmp 目录下\n",
    "    cv2.imwrite(f'{temp_out_dir}/{frame_id:06d}.jpg', img)\n",
    "    \n",
    "    prog_bar.update() # 更新进度条\n",
    "\n",
    "# 把每一帧串成视频文件\n",
    "mmcv.frames2video(temp_out_dir, 'output/output_pred.mp4', fps=imgs.fps, fourcc='mp4v')\n",
    "\n",
    "shutil.rmtree(temp_out_dir) # 删除存放每帧画面的临时文件夹\n",
    "print('删除临时文件夹', temp_out_dir)"
   ]
  },
  {
   "cell_type": "markdown",
   "id": "ab682827-7195-436f-837d-6a515dcdde05",
   "metadata": {},
   "source": [
    "### 可视化方案二：原始图像+预测结果文字+各类别置信度柱状图"
   ]
  },
  {
   "cell_type": "code",
   "execution_count": 28,
   "id": "a5d14d07-3545-4ac0-80bc-ae14a5e1321c",
   "metadata": {},
   "outputs": [],
   "source": [
    "def pred_single_frame_bar(img):\n",
    "    '''\n",
    "    输入pred_single_frame函数输出的bgr-array，加柱状图，保存\n",
    "    '''\n",
    "    img = cv2.cvtColor(img, cv2.COLOR_BGR2RGB) # BGR 转 RGB\n",
    "    fig = plt.figure(figsize=(18,6))\n",
    "    # 绘制左图-视频图\n",
    "    ax1 = plt.subplot(1,2,1)\n",
    "    ax1.imshow(img)\n",
    "    ax1.axis('off')\n",
    "    # 绘制右图-柱状图\n",
    "    ax2 = plt.subplot(1,2,2)\n",
    "    x = range(1000)\n",
    "    y = pred_softmax.cpu().detach().numpy()[0]\n",
    "    ax2.bar(x, y, alpha=0.5, width=0.3, color='yellow', edgecolor='red', lw=3)\n",
    "    plt.xlabel('Class', fontsize=20)\n",
    "    plt.ylabel('Confidence level', fontsize=20)\n",
    "    ax2.tick_params(labelsize=16) # 坐标文字大小\n",
    "    plt.ylim([0, 1.0]) # y轴取值范围\n",
    "    plt.xlabel('Class',fontsize=25)\n",
    "    plt.ylabel('Confidence level',fontsize=25)\n",
    "    plt.title('Classification of projected results', fontsize=30)\n",
    "    \n",
    "    plt.tight_layout()\n",
    "    fig.savefig(f'{temp_out_dir}/{frame_id:06d}.jpg')\n",
    "    # 释放内存\n",
    "    fig.clf()\n",
    "    plt.close()\n",
    "    gc.collect()"
   ]
  },
  {
   "cell_type": "code",
   "execution_count": 29,
   "id": "56845173-05f3-48aa-afb0-e2bad1d38668",
   "metadata": {},
   "outputs": [
    {
     "name": "stdout",
     "output_type": "stream",
     "text": [
      "创建文件夹 20240420172149 用于存放每帧预测结果\n"
     ]
    }
   ],
   "source": [
    "# 创建临时文件夹，存放每帧结果\n",
    "temp_out_dir = time.strftime('%Y%m%d%H%M%S')\n",
    "os.mkdir(temp_out_dir)\n",
    "print('创建文件夹 {} 用于存放每帧预测结果'.format(temp_out_dir))"
   ]
  },
  {
   "cell_type": "code",
   "execution_count": 30,
   "id": "6d72c047-eb94-4a7b-8ec3-c93fb6d9ce68",
   "metadata": {},
   "outputs": [
    {
     "name": "stdout",
     "output_type": "stream",
     "text": [
      "[>>>>>>>>>>>>>>>>>>>>>>>>>>>>>>] 353/353, 54.7 task/s, elapsed: 6s, ETA:     0s[                                                  ] 0/353, elapsed: 0s, ETA:\n",
      "删除临时文件夹 20240420172149\n"
     ]
    }
   ],
   "source": [
    "# 读入待预测视频\n",
    "imgs = mmcv.VideoReader(input_video)\n",
    "\n",
    "prog_bar = mmcv.ProgressBar(len(imgs))\n",
    "\n",
    "# 对视频逐帧处理\n",
    "for frame_id, img in enumerate(imgs):\n",
    "    \n",
    "    ## 处理单帧画面\n",
    "    img, pred_softmax = pred_single_frame(img, n=5)\n",
    "    img = pred_single_frame_bar(img)\n",
    "    \n",
    "    prog_bar.update() # 更新进度条\n",
    "\n",
    "# 把每一帧串成视频文件\n",
    "mmcv.frames2video(temp_out_dir, 'output/output_bar.mp4', fps=imgs.fps, fourcc='mp4v')\n",
    "\n",
    "shutil.rmtree(temp_out_dir) # 删除存放每帧画面的临时文件夹\n",
    "print('删除临时文件夹', temp_out_dir)"
   ]
  },
  {
   "cell_type": "code",
   "execution_count": null,
   "id": "637f1bfd-750d-40a5-b1b8-c3656e4f02bc",
   "metadata": {},
   "outputs": [],
   "source": [
    "#因为设计matplotlib的画图和保存，所以比较慢 3080画大概10分钟"
   ]
  },
  {
   "cell_type": "code",
   "execution_count": null,
   "id": "9249c7f5-25fb-43c8-8bda-cb8efd52091e",
   "metadata": {},
   "outputs": [],
   "source": []
  }
 ],
 "metadata": {
  "kernelspec": {
   "display_name": "Python 3 (ipykernel)",
   "language": "python",
   "name": "python3"
  },
  "language_info": {
   "codemirror_mode": {
    "name": "ipython",
    "version": 3
   },
   "file_extension": ".py",
   "mimetype": "text/x-python",
   "name": "python",
   "nbconvert_exporter": "python",
   "pygments_lexer": "ipython3",
   "version": "3.11.5"
  }
 },
 "nbformat": 4,
 "nbformat_minor": 5
}
