{
 "cells": [
  {
   "cell_type": "markdown",
   "id": "72f01091-1e96-4e40-86b4-ea582981eb30",
   "metadata": {},
   "source": [
    "### 准备图像分类数据集"
   ]
  },
  {
   "cell_type": "code",
   "execution_count": null,
   "id": "0b93e92c-f81b-4369-9635-e7fa712944b9",
   "metadata": {},
   "outputs": [],
   "source": []
  }
 ],
 "metadata": {
  "kernelspec": {
   "display_name": "Python 3 (ipykernel)",
   "language": "python",
   "name": "python3"
  },
  "language_info": {
   "codemirror_mode": {
    "name": "ipython",
    "version": 3
   },
   "file_extension": ".py",
   "mimetype": "text/x-python",
   "name": "python",
   "nbconvert_exporter": "python",
   "pygments_lexer": "ipython3",
   "version": "3.10.12"
  }
 },
 "nbformat": 4,
 "nbformat_minor": 5
}
