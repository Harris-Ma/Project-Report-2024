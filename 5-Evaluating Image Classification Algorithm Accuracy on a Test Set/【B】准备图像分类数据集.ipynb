{
 "cells": [
  {
   "cell_type": "markdown",
   "id": "4a36abc9-47b6-4e9a-8d2c-330e64012db2",
   "metadata": {},
   "source": [
    "# 准备图像分类数据集和模型文件"
   ]
  },
  {
   "cell_type": "markdown",
   "id": "e0f48f3b-5137-4b11-a529-4ae41c8806e4",
   "metadata": {},
   "source": [
    "## 下载样例数据集"
   ]
  },
  {
   "cell_type": "markdown",
   "id": "55155fe0-2d99-458e-bdb2-ac894d7a6046",
   "metadata": {},
   "source": [
    "## 查看数据集目录结构"
   ]
  },
  {
   "cell_type": "code",
   "execution_count": 2,
   "id": "f06d00df-aa4f-41fe-a2be-50a677bb5a3f",
   "metadata": {},
   "outputs": [
    {
     "name": "stdout",
     "output_type": "stream",
     "text": [
      "snap \"tree\" is already installed, see 'snap help refresh'\n"
     ]
    }
   ],
   "source": [
    "!sudo snap install tree"
   ]
  },
  {
   "cell_type": "code",
   "execution_count": 5,
   "id": "8f9f463f-ea2e-4d7b-b7b2-9f528afe987c",
   "metadata": {},
   "outputs": [
    {
     "name": "stdout",
     "output_type": "stream",
     "text": [
      "\u001b[01;34mParticle Figures_split\u001b[00m\n",
      "├── \u001b[01;34mtrain\u001b[00m\n",
      "│   ├── \u001b[01;34mAngular\u001b[00m\n",
      "│   ├── \u001b[01;34mRounded\u001b[00m\n",
      "│   ├── \u001b[01;34mSubangular\u001b[00m\n",
      "│   ├── \u001b[01;34mSubrounded\u001b[00m\n",
      "│   ├── \u001b[01;34mVery angular\u001b[00m\n",
      "│   └── \u001b[01;34mWell rounded\u001b[00m\n",
      "└── \u001b[01;34mval\u001b[00m\n",
      "    ├── \u001b[01;34mAngular\u001b[00m\n",
      "    ├── \u001b[01;34mRounded\u001b[00m\n",
      "    ├── \u001b[01;34mSubangular\u001b[00m\n",
      "    ├── \u001b[01;34mSubrounded\u001b[00m\n",
      "    ├── \u001b[01;34mVery angular\u001b[00m\n",
      "    └── \u001b[01;34mWell rounded\u001b[00m\n",
      "\n",
      "14 directories, 0 files\n"
     ]
    }
   ],
   "source": [
    "!tree 'Particle Figures_split' -L 2"
   ]
  },
  {
   "cell_type": "markdown",
   "id": "473cdb41-9885-461b-904b-eeccf7648684",
   "metadata": {},
   "source": [
    "## 训练好的模型文件"
   ]
  },
  {
   "cell_type": "code",
   "execution_count": 5,
   "id": "9bed2674-c592-4e2d-b696-8ffb537bc2cf",
   "metadata": {},
   "outputs": [
    {
     "name": "stdout",
     "output_type": "stream",
     "text": [
      "--2022-08-18 16:25:02--  https://zihao-openmmlab.obs.cn-east-3.myhuaweicloud.com/20220716-mmclassification/checkpoints/fruit30_pytorch_20220814.pth\n",
      "Connecting to 172.16.0.13:5848... connected.\n",
      "Proxy request sent, awaiting response... 200 OK\n",
      "Length: 44854477 (43M) [binary/octet-stream]\n",
      "Saving to: ‘checkpoints/fruit30_pytorch_20220814.pth’\n",
      "\n",
      "fruit30_pytorch_202 100%[===================>]  42.78M  39.4MB/s    in 1.1s    \n",
      "\n",
      "2022-08-18 16:25:04 (39.4 MB/s) - ‘checkpoints/fruit30_pytorch_20220814.pth’ saved [44854477/44854477]\n",
      "\n"
     ]
    }
   ],
   "source": [
    "# 下载样例模型文件\n",
    "!wget https://zihao-openmmlab.obs.cn-east-3.myhuaweicloud.com/20220716-mmclassification/checkpoints/fruit30_pytorch_20220814.pth -P checkpoint\n"
   ]
  },
  {
   "cell_type": "code",
   "execution_count": null,
   "id": "aa8c32ee-5fea-4d76-bc33-1e7efdfc20b0",
   "metadata": {},
   "outputs": [],
   "source": []
  }
 ],
 "metadata": {
  "kernelspec": {
   "display_name": "Python 3 (ipykernel)",
   "language": "python",
   "name": "python3"
  },
  "language_info": {
   "codemirror_mode": {
    "name": "ipython",
    "version": 3
   },
   "file_extension": ".py",
   "mimetype": "text/x-python",
   "name": "python",
   "nbconvert_exporter": "python",
   "pygments_lexer": "ipython3",
   "version": "3.10.12"
  }
 },
 "nbformat": 4,
 "nbformat_minor": 5
}
