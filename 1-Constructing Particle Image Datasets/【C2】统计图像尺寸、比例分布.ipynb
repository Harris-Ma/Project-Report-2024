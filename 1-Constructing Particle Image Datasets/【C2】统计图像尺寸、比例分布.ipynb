{
 "cells": [
  {
   "cell_type": "code",
   "execution_count": 1,
   "id": "86451d3e-94df-40ec-b651-882c02877411",
   "metadata": {},
   "outputs": [],
   "source": [
    "import os\n",
    "import numpy as np\n",
    "import pandas as pd\n",
    "import cv2\n",
    "from tqdm import tqdm\n",
    "\n",
    "import matplotlib.pyplot as plt\n",
    "%matplotlib inline"
   ]
  },
  {
   "cell_type": "markdown",
   "id": "cbb09b07-fdb7-4805-b0fa-176440cf9421",
   "metadata": {},
   "source": [
    "**删除多余文件**"
   ]
  },
  {
   "cell_type": "code",
   "execution_count": 2,
   "id": "9010d063-d70b-4ed9-a7e2-669230571ca3",
   "metadata": {},
   "outputs": [],
   "source": [
    "# 指定数据集路径\n",
    "dataset_path = 'Particle Figures_full'"
   ]
  },
  {
   "cell_type": "code",
   "execution_count": 3,
   "id": "86061041-852c-4d31-a00d-da3d3e433ce3",
   "metadata": {},
   "outputs": [],
   "source": [
    "!find . -iname '__MACOSX'"
   ]
  },
  {
   "cell_type": "code",
   "execution_count": 4,
   "id": "c9eab6f0-3225-4979-80aa-1e2bdfd2ec24",
   "metadata": {},
   "outputs": [],
   "source": [
    "!find . -iname '.DS_Store'"
   ]
  },
  {
   "cell_type": "code",
   "execution_count": 12,
   "id": "9f3794e4-4e83-42f6-a218-703447b0b22d",
   "metadata": {},
   "outputs": [
    {
     "name": "stdout",
     "output_type": "stream",
     "text": [
      "./Particle Figures_full/.ipynb_checkpoints\n",
      "./Particle Figures_full/Rounded/.ipynb_checkpoints\n",
      "./.local/share/Trash/files/val 4/.ipynb_checkpoints\n",
      "./.local/share/Trash/files/train 4/.ipynb_checkpoints\n",
      "./.local/share/Trash/files/Particle Figures/.ipynb_checkpoints\n"
     ]
    }
   ],
   "source": [
    "!find . -iname '.ipynb_checkpoints'"
   ]
  },
  {
   "cell_type": "code",
   "execution_count": 17,
   "id": "dff04705-7e5b-4683-9348-0bdca6e710d8",
   "metadata": {},
   "outputs": [],
   "source": [
    "!for i in `find . -iname '.ipynb_checkpoints'`; do rm -rf $i;done"
   ]
  },
  {
   "cell_type": "code",
   "execution_count": 18,
   "id": "f4c825af-f90d-40bb-8f4b-2f5da2486479",
   "metadata": {},
   "outputs": [
    {
     "name": "stdout",
     "output_type": "stream",
     "text": [
      "./Particle Figures_full/.ipynb_checkpoints\n",
      "./Particle Figures_full/Rounded/.ipynb_checkpoints\n",
      "./.local/share/Trash/files/val 4/.ipynb_checkpoints\n",
      "./.local/share/Trash/files/train 4/.ipynb_checkpoints\n",
      "./.local/share/Trash/files/Particle Figures/.ipynb_checkpoints\n"
     ]
    }
   ],
   "source": [
    "!find . -iname '.ipynb_checkpoints'"
   ]
  },
  {
   "cell_type": "code",
   "execution_count": 19,
   "id": "0e7be8cb-e013-492f-8183-c85a58a25752",
   "metadata": {},
   "outputs": [],
   "source": [
    "!for i in `find . -iname '.ipynb_checkpoints'`; do rm -rf $i;done"
   ]
  },
  {
   "cell_type": "markdown",
   "id": "c9c0d934-0d56-4214-8fd8-65beff729e3f",
   "metadata": {},
   "source": [
    "**指定数据集路径**"
   ]
  },
  {
   "cell_type": "code",
   "execution_count": 7,
   "id": "a5292059-da8f-462a-884d-97dbf3119a9f",
   "metadata": {},
   "outputs": [
    {
     "data": {
      "text/plain": [
       "['Subrounded',\n",
       " 'Very angular',\n",
       " 'Angular',\n",
       " 'Well rounded',\n",
       " 'Rounded',\n",
       " 'Subangular']"
      ]
     },
     "execution_count": 7,
     "metadata": {},
     "output_type": "execute_result"
    }
   ],
   "source": [
    "# 指定数据集路径\n",
    "dataset_path = 'Particle Figures_full'\n",
    "os.chdir(dataset_path)\n",
    "os.listdir()"
   ]
  },
  {
   "cell_type": "code",
   "execution_count": 8,
   "id": "32add5da-1df7-4a7a-9b18-8af14b3f0867",
   "metadata": {},
   "outputs": [
    {
     "name": "stderr",
     "output_type": "stream",
     "text": [
      " 67%|██████▋   | 4/6 [00:08<00:03,  1.78s/it]"
     ]
    },
    {
     "name": "stdout",
     "output_type": "stream",
     "text": [
      "Rounded/.ipynb_checkpoints 读取错误\n"
     ]
    },
    {
     "name": "stderr",
     "output_type": "stream",
     "text": [
      "100%|██████████| 6/6 [00:13<00:00,  2.21s/it]\n"
     ]
    }
   ],
   "source": [
    "df = pd.DataFrame()\n",
    "for particle in tqdm(os.listdir()): # 遍历每个类别    \n",
    "    os.chdir(particle)\n",
    "    for file in os.listdir(): # 遍历每张图像\n",
    "        try:\n",
    "            img = cv2.imread(file)\n",
    "            df = df._append({'Type':particle, 'File name':file, 'Width':img.shape[1], 'Height':img.shape[0]}, ignore_index=True)\n",
    "        except:\n",
    "            print(os.path.join(particle, file), '读取错误')\n",
    "    os.chdir('../')\n",
    "os.chdir('../')"
   ]
  },
  {
   "cell_type": "code",
   "execution_count": 9,
   "id": "350ace61-1496-4a87-bb89-9669b543bc9f",
   "metadata": {},
   "outputs": [
    {
     "data": {
      "text/html": [
       "<div>\n",
       "<style scoped>\n",
       "    .dataframe tbody tr th:only-of-type {\n",
       "        vertical-align: middle;\n",
       "    }\n",
       "\n",
       "    .dataframe tbody tr th {\n",
       "        vertical-align: top;\n",
       "    }\n",
       "\n",
       "    .dataframe thead th {\n",
       "        text-align: right;\n",
       "    }\n",
       "</style>\n",
       "<table border=\"1\" class=\"dataframe\">\n",
       "  <thead>\n",
       "    <tr style=\"text-align: right;\">\n",
       "      <th></th>\n",
       "      <th>Type</th>\n",
       "      <th>File name</th>\n",
       "      <th>Width</th>\n",
       "      <th>Height</th>\n",
       "    </tr>\n",
       "  </thead>\n",
       "  <tbody>\n",
       "    <tr>\n",
       "      <th>0</th>\n",
       "      <td>Subrounded</td>\n",
       "      <td>Subrounded (24).jpg</td>\n",
       "      <td>1300</td>\n",
       "      <td>957</td>\n",
       "    </tr>\n",
       "    <tr>\n",
       "      <th>1</th>\n",
       "      <td>Subrounded</td>\n",
       "      <td>Subrounded (106).jpg</td>\n",
       "      <td>500</td>\n",
       "      <td>270</td>\n",
       "    </tr>\n",
       "    <tr>\n",
       "      <th>2</th>\n",
       "      <td>Subrounded</td>\n",
       "      <td>Subrounded (129).jpg</td>\n",
       "      <td>640</td>\n",
       "      <td>640</td>\n",
       "    </tr>\n",
       "    <tr>\n",
       "      <th>3</th>\n",
       "      <td>Subrounded</td>\n",
       "      <td>Subrounded (18).jpg</td>\n",
       "      <td>1024</td>\n",
       "      <td>680</td>\n",
       "    </tr>\n",
       "    <tr>\n",
       "      <th>4</th>\n",
       "      <td>Subrounded</td>\n",
       "      <td>Subrounded (185).jpg</td>\n",
       "      <td>960</td>\n",
       "      <td>538</td>\n",
       "    </tr>\n",
       "    <tr>\n",
       "      <th>...</th>\n",
       "      <td>...</td>\n",
       "      <td>...</td>\n",
       "      <td>...</td>\n",
       "      <td>...</td>\n",
       "    </tr>\n",
       "    <tr>\n",
       "      <th>1243</th>\n",
       "      <td>Subangular</td>\n",
       "      <td>Subangular (83).jpg</td>\n",
       "      <td>500</td>\n",
       "      <td>333</td>\n",
       "    </tr>\n",
       "    <tr>\n",
       "      <th>1244</th>\n",
       "      <td>Subangular</td>\n",
       "      <td>Subangular (264).jpg</td>\n",
       "      <td>800</td>\n",
       "      <td>500</td>\n",
       "    </tr>\n",
       "    <tr>\n",
       "      <th>1245</th>\n",
       "      <td>Subangular</td>\n",
       "      <td>Subangular (25).jpg</td>\n",
       "      <td>1024</td>\n",
       "      <td>680</td>\n",
       "    </tr>\n",
       "    <tr>\n",
       "      <th>1246</th>\n",
       "      <td>Subangular</td>\n",
       "      <td>Subangular (272).jpg</td>\n",
       "      <td>500</td>\n",
       "      <td>328</td>\n",
       "    </tr>\n",
       "    <tr>\n",
       "      <th>1247</th>\n",
       "      <td>Subangular</td>\n",
       "      <td>Subangular (22).jpg</td>\n",
       "      <td>600</td>\n",
       "      <td>400</td>\n",
       "    </tr>\n",
       "  </tbody>\n",
       "</table>\n",
       "<p>1248 rows × 4 columns</p>\n",
       "</div>"
      ],
      "text/plain": [
       "            Type             File name  Width  Height\n",
       "0     Subrounded   Subrounded (24).jpg   1300     957\n",
       "1     Subrounded  Subrounded (106).jpg    500     270\n",
       "2     Subrounded  Subrounded (129).jpg    640     640\n",
       "3     Subrounded   Subrounded (18).jpg   1024     680\n",
       "4     Subrounded  Subrounded (185).jpg    960     538\n",
       "...          ...                   ...    ...     ...\n",
       "1243  Subangular   Subangular (83).jpg    500     333\n",
       "1244  Subangular  Subangular (264).jpg    800     500\n",
       "1245  Subangular   Subangular (25).jpg   1024     680\n",
       "1246  Subangular  Subangular (272).jpg    500     328\n",
       "1247  Subangular   Subangular (22).jpg    600     400\n",
       "\n",
       "[1248 rows x 4 columns]"
      ]
     },
     "execution_count": 9,
     "metadata": {},
     "output_type": "execute_result"
    }
   ],
   "source": [
    "df"
   ]
  },
  {
   "cell_type": "markdown",
   "id": "48054101-ad57-46c4-8dc3-dbeb03a9319d",
   "metadata": {},
   "source": [
    "**可视化图像尺寸分布**"
   ]
  },
  {
   "cell_type": "code",
   "execution_count": 11,
   "id": "e7a00981-b14f-4c34-87b2-7ac1fab36c62",
   "metadata": {},
   "outputs": [
    {
     "data": {
      "image/png": "[encoded data removed]",
      "text/plain": [
       "<Figure size 1000x1000 with 1 Axes>"
      ]
     },
     "metadata": {},
     "output_type": "display_data"
    }
   ],
   "source": [
    "from scipy.stats import gaussian_kde\n",
    "from matplotlib.colors import LogNorm\n",
    "\n",
    "x = df['Width']\n",
    "y = df['Height']\n",
    "\n",
    "xy = np.vstack([x,y])\n",
    "z = gaussian_kde(xy)(xy)\n",
    "\n",
    "# Sort the points by density, so that the densest points are plotted last\n",
    "idx = z.argsort()\n",
    "x, y, z = x[idx], y[idx], z[idx]\n",
    "\n",
    "plt.figure(figsize=(10,10))\n",
    "# plt.figure(figsize=(12,12))\n",
    "plt.scatter(x, y, c=z,  s=5, cmap='Spectral_r')\n",
    "# plt.colorbar()\n",
    "# plt.xticks([])\n",
    "# plt.yticks([])\n",
    "\n",
    "plt.tick_params(labelsize=15)\n",
    "\n",
    "xy_max = max(max(df['Width']), max(df['Height']))\n",
    "plt.xlim(xmin=0, xmax=xy_max)\n",
    "plt.ylim(ymin=0, ymax=xy_max)\n",
    "\n",
    "plt.ylabel('height', fontsize=25)\n",
    "plt.xlabel('width', fontsize=25)\n",
    "\n",
    "plt.savefig('Image Size Distribution.pdf', dpi=120, bbox_inches='tight')\n",
    "\n",
    "plt.show()"
   ]
  },
  {
   "cell_type": "code",
   "execution_count": 1,
   "id": "25acedde-a6f9-49e9-bb42-b3ef3b841b75",
   "metadata": {},
   "outputs": [
    {
     "name": "stdout",
     "output_type": "stream",
     "text": [
      "Requirement already satisfied: nbconvert in d:\\anaconda\\lib\\site-packages (6.5.4)\n",
      "Requirement already satisfied: lxml in d:\\anaconda\\lib\\site-packages (from nbconvert) (4.9.3)\n",
      "Requirement already satisfied: beautifulsoup4 in d:\\anaconda\\lib\\site-packages (from nbconvert) (4.12.2)\n",
      "Requirement already satisfied: bleach in d:\\anaconda\\lib\\site-packages (from nbconvert) (4.1.0)\n",
      "Requirement already satisfied: defusedxml in d:\\anaconda\\lib\\site-packages (from nbconvert) (0.7.1)\n",
      "Requirement already satisfied: entrypoints>=0.2.2 in d:\\anaconda\\lib\\site-packages (from nbconvert) (0.4)\n",
      "Requirement already satisfied: jinja2>=3.0 in d:\\anaconda\\lib\\site-packages (from nbconvert) (3.1.2)\n",
      "Requirement already satisfied: jupyter-core>=4.7 in d:\\anaconda\\lib\\site-packages (from nbconvert) (5.3.0)\n",
      "Requirement already satisfied: jupyterlab-pygments in d:\\anaconda\\lib\\site-packages (from nbconvert) (0.1.2)\n",
      "Requirement already satisfied: MarkupSafe>=2.0 in d:\\anaconda\\lib\\site-packages (from nbconvert) (2.1.1)\n",
      "Requirement already satisfied: mistune<2,>=0.8.1 in d:\\anaconda\\lib\\site-packages (from nbconvert) (0.8.4)\n",
      "Requirement already satisfied: nbclient>=0.5.0 in d:\\anaconda\\lib\\site-packages (from nbconvert) (0.5.13)\n",
      "Requirement already satisfied: nbformat>=5.1 in d:\\anaconda\\lib\\site-packages (from nbconvert) (5.9.2)\n",
      "Requirement already satisfied: packaging in d:\\anaconda\\lib\\site-packages (from nbconvert) (23.1)\n",
      "Requirement already satisfied: pandocfilters>=1.4.1 in d:\\anaconda\\lib\\site-packages (from nbconvert) (1.5.0)\n",
      "Requirement already satisfied: pygments>=2.4.1 in d:\\anaconda\\lib\\site-packages (from nbconvert) (2.15.1)\n",
      "Requirement already satisfied: tinycss2 in d:\\anaconda\\lib\\site-packages (from nbconvert) (1.2.1)\n",
      "Requirement already satisfied: traitlets>=5.0 in d:\\anaconda\\lib\\site-packages (from nbconvert) (5.7.1)\n",
      "Requirement already satisfied: platformdirs>=2.5 in d:\\anaconda\\lib\\site-packages (from jupyter-core>=4.7->nbconvert) (3.10.0)\n",
      "Requirement already satisfied: pywin32>=300 in d:\\anaconda\\lib\\site-packages (from jupyter-core>=4.7->nbconvert) (305.1)\n",
      "Requirement already satisfied: jupyter-client>=6.1.5 in d:\\anaconda\\lib\\site-packages (from nbclient>=0.5.0->nbconvert) (7.4.9)\n",
      "Requirement already satisfied: nest-asyncio in d:\\anaconda\\lib\\site-packages (from nbclient>=0.5.0->nbconvert) (1.5.6)\n",
      "Requirement already satisfied: fastjsonschema in d:\\anaconda\\lib\\site-packages (from nbformat>=5.1->nbconvert) (2.16.2)\n",
      "Requirement already satisfied: jsonschema>=2.6 in d:\\anaconda\\lib\\site-packages (from nbformat>=5.1->nbconvert) (4.17.3)\n",
      "Requirement already satisfied: soupsieve>1.2 in d:\\anaconda\\lib\\site-packages (from beautifulsoup4->nbconvert) (2.4)\n",
      "Requirement already satisfied: six>=1.9.0 in d:\\anaconda\\lib\\site-packages (from bleach->nbconvert) (1.16.0)\n",
      "Requirement already satisfied: webencodings in d:\\anaconda\\lib\\site-packages (from bleach->nbconvert) (0.5.1)\n",
      "Requirement already satisfied: attrs>=17.4.0 in d:\\anaconda\\lib\\site-packages (from jsonschema>=2.6->nbformat>=5.1->nbconvert) (22.1.0)\n",
      "Requirement already satisfied: pyrsistent!=0.17.0,!=0.17.1,!=0.17.2,>=0.14.0 in d:\\anaconda\\lib\\site-packages (from jsonschema>=2.6->nbformat>=5.1->nbconvert) (0.18.0)\n",
      "Requirement already satisfied: python-dateutil>=2.8.2 in d:\\anaconda\\lib\\site-packages (from jupyter-client>=6.1.5->nbclient>=0.5.0->nbconvert) (2.8.2)\n",
      "Requirement already satisfied: pyzmq>=23.0 in d:\\anaconda\\lib\\site-packages (from jupyter-client>=6.1.5->nbclient>=0.5.0->nbconvert) (23.2.0)\n",
      "Requirement already satisfied: tornado>=6.2 in d:\\anaconda\\lib\\site-packages (from jupyter-client>=6.1.5->nbclient>=0.5.0->nbconvert) (6.3.2)\n",
      "Note: you may need to restart the kernel to use updated packages.\n"
     ]
    }
   ],
   "source": [
    "pip install nbconvert"
   ]
  },
  {
   "cell_type": "code",
   "execution_count": 2,
   "id": "dde25cc7",
   "metadata": {},
   "outputs": [
    {
     "ename": "SyntaxError",
     "evalue": "invalid syntax (4264478939.py, line 1)",
     "output_type": "error",
     "traceback": [
      "\u001b[1;36m  Cell \u001b[1;32mIn[2], line 1\u001b[1;36m\u001b[0m\n\u001b[1;33m    jupyter nbconvert test.ipynb --to markdown\u001b[0m\n\u001b[1;37m            ^\u001b[0m\n\u001b[1;31mSyntaxError\u001b[0m\u001b[1;31m:\u001b[0m invalid syntax\n"
     ]
    }
   ],
   "source": [
    "jupyter nbconvert test.ipynb --to markdown"
   ]
  },
  {
   "cell_type": "code",
   "execution_count": null,
   "id": "fa2e0a10",
   "metadata": {},
   "outputs": [],
   "source": []
  }
 ],
 "metadata": {
  "kernelspec": {
   "display_name": "Python 3 (ipykernel)",
   "language": "python",
   "name": "python3"
  },
  "language_info": {
   "codemirror_mode": {
    "name": "ipython",
    "version": 3
   },
   "file_extension": ".py",
   "mimetype": "text/x-python",
   "name": "python",
   "nbconvert_exporter": "python",
   "pygments_lexer": "ipython3",
   "version": "3.11.5"
  }
 },
 "nbformat": 4,
 "nbformat_minor": 5
}
