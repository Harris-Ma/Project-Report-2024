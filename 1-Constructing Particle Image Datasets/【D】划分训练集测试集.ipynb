{
 "cells": [
  {
   "cell_type": "markdown",
   "id": "ee7e0e44-0baf-4548-9ae6-77ee78c93dd6",
   "metadata": {
    "tags": []
   },
   "source": [
    "## 划分测试集训练集"
   ]
  },
  {
   "cell_type": "markdown",
   "id": "1d4e36f4-51ed-4fb4-90da-a7cfde062626",
   "metadata": {},
   "source": [
    "## 导入工具包"
   ]
  },
  {
   "cell_type": "code",
   "execution_count": 8,
   "id": "7035c1f3-23cd-447b-a650-73a828be7d60",
   "metadata": {},
   "outputs": [],
   "source": [
    "import os\n",
    "import shutil\n",
    "import random\n",
    "import cv2\n",
    "import pandas as pd\n",
    "from tqdm import tqdm"
   ]
  },
  {
   "cell_type": "markdown",
   "id": "d5911fe1-6ef9-4127-80e2-81059ce8296c",
   "metadata": {},
   "source": [
    "### 获得所有类别名称"
   ]
  },
  {
   "cell_type": "code",
   "execution_count": 9,
   "id": "c0da87d7-1b45-42c0-98c1-9d769f9d4f5b",
   "metadata": {},
   "outputs": [],
   "source": [
    "# 指定数据集路径\n",
    "dataset_path = 'Particle Figures_full'"
   ]
  },
  {
   "cell_type": "code",
   "execution_count": 10,
   "id": "18af69dc-40e8-407d-aba8-9462e62b2ee3",
   "metadata": {},
   "outputs": [
    {
     "name": "stdout",
     "output_type": "stream",
     "text": [
      "Dataset Particle Figures\n"
     ]
    }
   ],
   "source": [
    "dataset_name = dataset_path.split('_')[0]\n",
    "print('Dataset', dataset_name)"
   ]
  },
  {
   "cell_type": "code",
   "execution_count": 11,
   "id": "7608757a-fff1-4989-8fde-c00064bf9886",
   "metadata": {},
   "outputs": [
    {
     "name": "stdout",
     "output_type": "stream",
     "text": [
      "./.ipynb_checkpoints\n",
      "./.local/share/Trash/files/val 4/.ipynb_checkpoints\n",
      "./.local/share/Trash/files/train 4/.ipynb_checkpoints\n",
      "./.local/share/Trash/files/Particle Figures/.ipynb_checkpoints\n",
      "./.local/share/Trash/files/Particle Figures_full/train/.ipynb_checkpoints\n",
      "./.local/share/Trash/files/Particle Figures_full/train/val/.ipynb_checkpoints\n",
      "./.local/share/Trash/files/Particle Figures_full/Rounded/.ipynb_checkpoints\n",
      "./.local/share/Trash/files/Particle Figures_full 1/Rounded/.ipynb_checkpoints\n"
     ]
    }
   ],
   "source": [
    "!find . -iname '.ipynb_checkpoints'"
   ]
  },
  {
   "cell_type": "code",
   "execution_count": 12,
   "id": "b4c762ab-3e97-43e4-82d7-7897691a9c00",
   "metadata": {},
   "outputs": [],
   "source": [
    "!for i in `find . -iname '__MACOSX'`; do rm -rf $i;done\n",
    "!for i in `find . -iname '.DS_Store'`; do rm -rf $i;done\n",
    "!for i in `find . -iname '.ipynb_checkpoints'`; do rm -rf $i;done"
   ]
  },
  {
   "cell_type": "code",
   "execution_count": 13,
   "id": "9a7e64aa-56ec-497b-9aa9-4a30eee36322",
   "metadata": {},
   "outputs": [],
   "source": [
    "classes = os.listdir(dataset_path)"
   ]
  },
  {
   "cell_type": "code",
   "execution_count": 14,
   "id": "afafe603-258c-4756-af44-45397a64ccc9",
   "metadata": {
    "tags": []
   },
   "outputs": [
    {
     "name": "stdout",
     "output_type": "stream",
     "text": [
      "./.local/share/Trash/files/val 4/.ipynb_checkpoints\n",
      "./.local/share/Trash/files/train 4/.ipynb_checkpoints\n",
      "./.local/share/Trash/files/Particle Figures/.ipynb_checkpoints\n",
      "./.local/share/Trash/files/Particle Figures_full/train/.ipynb_checkpoints\n",
      "./.local/share/Trash/files/Particle Figures_full/train/val/.ipynb_checkpoints\n",
      "./.local/share/Trash/files/Particle Figures_full/Rounded/.ipynb_checkpoints\n",
      "./.local/share/Trash/files/Particle Figures_full 1/Rounded/.ipynb_checkpoints\n"
     ]
    }
   ],
   "source": [
    "!find . -iname '.ipynb_checkpoints'"
   ]
  },
  {
   "cell_type": "code",
   "execution_count": 15,
   "id": "dc38f290-d19d-4a97-a94f-4d55510aa666",
   "metadata": {
    "tags": []
   },
   "outputs": [],
   "source": [
    "!for i in `find . -iname '.ipynb_checkpoints'`; do rm -rf $i;done"
   ]
  },
  {
   "cell_type": "code",
   "execution_count": 16,
   "id": "1c5cf59e-6c75-44f9-a5d2-8a2bbc0a467a",
   "metadata": {},
   "outputs": [
    {
     "name": "stdout",
     "output_type": "stream",
     "text": [
      "./.local/share/Trash/files/val 4/.ipynb_checkpoints\n",
      "./.local/share/Trash/files/train 4/.ipynb_checkpoints\n",
      "./.local/share/Trash/files/Particle Figures/.ipynb_checkpoints\n",
      "./.local/share/Trash/files/Particle Figures_full/train/.ipynb_checkpoints\n",
      "./.local/share/Trash/files/Particle Figures_full/train/val/.ipynb_checkpoints\n",
      "./.local/share/Trash/files/Particle Figures_full/Rounded/.ipynb_checkpoints\n",
      "./.local/share/Trash/files/Particle Figures_full 1/Rounded/.ipynb_checkpoints\n"
     ]
    }
   ],
   "source": [
    "!find . -iname '.ipynb_checkpoints'"
   ]
  },
  {
   "cell_type": "code",
   "execution_count": 17,
   "id": "f0bd83cb-a40d-466f-9b01-e3d5401c09e1",
   "metadata": {},
   "outputs": [],
   "source": [
    "!for i in `find . -iname '.ipynb_checkpoints'`; do rm -rf $i;done"
   ]
  },
  {
   "cell_type": "code",
   "execution_count": 18,
   "id": "bd94755f-44a3-4cbb-8c65-10f6bc7a20ee",
   "metadata": {},
   "outputs": [],
   "source": [
    "rm -rf \"find -type d name .ipynb_checkpoints\""
   ]
  },
  {
   "cell_type": "code",
   "execution_count": 19,
   "id": "1c3e2c08-2807-4c85-b524-208d422cc615",
   "metadata": {},
   "outputs": [
    {
     "data": {
      "text/plain": [
       "6"
      ]
     },
     "execution_count": 19,
     "metadata": {},
     "output_type": "execute_result"
    }
   ],
   "source": [
    "len(classes)"
   ]
  },
  {
   "cell_type": "code",
   "execution_count": 20,
   "id": "c1fd2a20-b8b9-44bb-9394-c6cc00a3ed5b",
   "metadata": {},
   "outputs": [
    {
     "data": {
      "text/plain": [
       "['Subrounded',\n",
       " 'Very angular',\n",
       " 'Angular',\n",
       " 'Well rounded',\n",
       " 'Rounded',\n",
       " 'Subangular']"
      ]
     },
     "execution_count": 20,
     "metadata": {},
     "output_type": "execute_result"
    }
   ],
   "source": [
    "classes"
   ]
  },
  {
   "cell_type": "markdown",
   "id": "8ad600c3-f581-44fc-b74d-e579f3baf3b7",
   "metadata": {},
   "source": [
    "### 创建训练集文件夹和测试集文件夹"
   ]
  },
  {
   "cell_type": "code",
   "execution_count": 21,
   "id": "cfd86948-eb82-4719-b895-b152ec615fd2",
   "metadata": {},
   "outputs": [],
   "source": [
    "# 创建 train 文件夹\n",
    "os.mkdir(os.path.join(dataset_path, 'train'))\n",
    "\n",
    "# 创建 test 文件夹\n",
    "os.mkdir(os.path.join(dataset_path, 'val'))\n",
    "\n",
    "# 在 train 和 test 文件夹中创建各类别子文件夹\n",
    "for particle in classes:\n",
    "    os.mkdir(os.path.join(dataset_path, 'train', particle))\n",
    "    os.mkdir(os.path.join(dataset_path, 'val', particle))"
   ]
  },
  {
   "cell_type": "markdown",
   "id": "7bcb150d-8793-4cdf-a313-602494e49655",
   "metadata": {},
   "source": [
    "### 划分训练集、测试集，移动文件"
   ]
  },
  {
   "cell_type": "code",
   "execution_count": 22,
   "id": "acde6002-0ac8-4e98-9b5c-09f7e96ffab8",
   "metadata": {},
   "outputs": [],
   "source": [
    "test_frac = 0.2  # 测试集比例\n",
    "random.seed(123) # 随机数种子，便于复现"
   ]
  },
  {
   "cell_type": "code",
   "execution_count": 23,
   "id": "2e19c448-d6e9-4404-9116-42f6cd407797",
   "metadata": {},
   "outputs": [
    {
     "name": "stdout",
     "output_type": "stream",
     "text": [
      "       Type         No. of Train set   No. of Test set  \n",
      "    Subrounded            278                 69        \n",
      "   Very angular           124                 31        \n",
      "     Angular              151                 37        \n",
      "   Well rounded            56                 14        \n",
      "     Rounded              127                 31        \n",
      "    Subangular            265                 66        \n"
     ]
    }
   ],
   "source": [
    "df = pd.DataFrame()\n",
    "\n",
    "print('{:^18} {:^18} {:^18}'.format('Type', 'No. of Train set', 'No. of Test set'))\n",
    "\n",
    "for particle in classes: # 遍历每个类别\n",
    "\n",
    "    # 读取该类别的所有图像文件名\n",
    "    old_dir = os.path.join(dataset_path, particle)\n",
    "    images_filename = os.listdir(old_dir)\n",
    "    random.shuffle(images_filename) # 随机打乱\n",
    "\n",
    "    # 划分训练集和测试集\n",
    "    testset_numer = int(len(images_filename) * test_frac) # 测试集图像个数\n",
    "    testset_images = images_filename[:testset_numer]      # 获取拟移动至 test 目录的测试集图像文件名\n",
    "    trainset_images = images_filename[testset_numer:]     # 获取拟移动至 train 目录的训练集图像文件名\n",
    "\n",
    "    # 移动图像至 test 目录\n",
    "    for image in testset_images:\n",
    "        old_img_path = os.path.join(dataset_path, particle, image)         # 获取原始文件路径\n",
    "        new_test_path = os.path.join(dataset_path, 'val', particle, image) # 获取 test 目录的新文件路径\n",
    "        shutil.move(old_img_path, new_test_path) # 移动文件\n",
    "\n",
    "    # 移动图像至 train 目录\n",
    "    for image in trainset_images:\n",
    "        old_img_path = os.path.join(dataset_path, particle, image)           # 获取原始文件路径\n",
    "        new_train_path = os.path.join(dataset_path, 'train', particle, image) # 获取 train 目录的新文件路径\n",
    "        shutil.move(old_img_path, new_train_path) # 移动文件\n",
    "    \n",
    "    # 删除旧文件夹\n",
    "    assert len(os.listdir(old_dir)) == 0 # 确保旧文件夹中的所有图像都被移动走\n",
    "    shutil.rmtree(old_dir) # 删除文件夹\n",
    "    \n",
    "    # 工整地输出每一类别的数据个数\n",
    "    print('{:^18} {:^18} {:^18}'.format(particle, len(trainset_images), len(testset_images)))\n",
    "    \n",
    "    # 保存到表格中\n",
    "    df = df._append({'class':particle, 'trainset':len(trainset_images), 'testset':len(testset_images)}, ignore_index=True)\n",
    "\n",
    "# 重命名数据集文件夹\n",
    "shutil.move(dataset_path, dataset_name+'_split')\n",
    "\n",
    "# 数据集各类别数量统计表格，导出为 csv 文件\n",
    "df['total'] = df['trainset'] + df['testset']\n",
    "df.to_csv('数据量统计.csv', index=False)"
   ]
  },
  {
   "cell_type": "code",
   "execution_count": 24,
   "id": "49f9cb86-c416-4fcb-81fc-fb00bbc104f8",
   "metadata": {},
   "outputs": [
    {
     "data": {
      "text/html": [
       "<div>\n",
       "<style scoped>\n",
       "    .dataframe tbody tr th:only-of-type {\n",
       "        vertical-align: middle;\n",
       "    }\n",
       "\n",
       "    .dataframe tbody tr th {\n",
       "        vertical-align: top;\n",
       "    }\n",
       "\n",
       "    .dataframe thead th {\n",
       "        text-align: right;\n",
       "    }\n",
       "</style>\n",
       "<table border=\"1\" class=\"dataframe\">\n",
       "  <thead>\n",
       "    <tr style=\"text-align: right;\">\n",
       "      <th></th>\n",
       "      <th>class</th>\n",
       "      <th>trainset</th>\n",
       "      <th>testset</th>\n",
       "      <th>total</th>\n",
       "    </tr>\n",
       "  </thead>\n",
       "  <tbody>\n",
       "    <tr>\n",
       "      <th>0</th>\n",
       "      <td>Subrounded</td>\n",
       "      <td>278</td>\n",
       "      <td>69</td>\n",
       "      <td>347</td>\n",
       "    </tr>\n",
       "    <tr>\n",
       "      <th>1</th>\n",
       "      <td>Very angular</td>\n",
       "      <td>124</td>\n",
       "      <td>31</td>\n",
       "      <td>155</td>\n",
       "    </tr>\n",
       "    <tr>\n",
       "      <th>2</th>\n",
       "      <td>Angular</td>\n",
       "      <td>151</td>\n",
       "      <td>37</td>\n",
       "      <td>188</td>\n",
       "    </tr>\n",
       "    <tr>\n",
       "      <th>3</th>\n",
       "      <td>Well rounded</td>\n",
       "      <td>56</td>\n",
       "      <td>14</td>\n",
       "      <td>70</td>\n",
       "    </tr>\n",
       "    <tr>\n",
       "      <th>4</th>\n",
       "      <td>Rounded</td>\n",
       "      <td>127</td>\n",
       "      <td>31</td>\n",
       "      <td>158</td>\n",
       "    </tr>\n",
       "    <tr>\n",
       "      <th>5</th>\n",
       "      <td>Subangular</td>\n",
       "      <td>265</td>\n",
       "      <td>66</td>\n",
       "      <td>331</td>\n",
       "    </tr>\n",
       "  </tbody>\n",
       "</table>\n",
       "</div>"
      ],
      "text/plain": [
       "          class  trainset  testset  total\n",
       "0    Subrounded       278       69    347\n",
       "1  Very angular       124       31    155\n",
       "2       Angular       151       37    188\n",
       "3  Well rounded        56       14     70\n",
       "4       Rounded       127       31    158\n",
       "5    Subangular       265       66    331"
      ]
     },
     "execution_count": 24,
     "metadata": {},
     "output_type": "execute_result"
    }
   ],
   "source": [
    "df"
   ]
  },
  {
   "cell_type": "markdown",
   "id": "1283c9b2-f4a1-434f-a652-23bc0bbba054",
   "metadata": {},
   "source": [
    "### 查看文件目录结构"
   ]
  },
  {
   "cell_type": "code",
   "execution_count": 32,
   "id": "a81fa32f-2621-44f1-853b-3ab5b792a62e",
   "metadata": {},
   "outputs": [
    {
     "name": "stdout",
     "output_type": "stream",
     "text": [
      "snap \"tree\" is already installed, see 'snap help refresh'\n"
     ]
    }
   ],
   "source": [
    "!sudo snap install tree"
   ]
  },
  {
   "cell_type": "code",
   "execution_count": 46,
   "id": "fdca9499-dd5e-44d2-81b2-86020643d173",
   "metadata": {},
   "outputs": [
    {
     "name": "stdout",
     "output_type": "stream",
     "text": [
      "\u001b[01;34mParticle Figures_split\u001b[00m\n",
      "├── \u001b[01;34mtrain\u001b[00m\n",
      "│   ├── \u001b[01;34mAngular\u001b[00m\n",
      "│   ├── \u001b[01;34mRounded\u001b[00m\n",
      "│   ├── \u001b[01;34mSubangular\u001b[00m\n",
      "│   ├── \u001b[01;34mSubrounded\u001b[00m\n",
      "│   ├── \u001b[01;34mVery angular\u001b[00m\n",
      "│   └── \u001b[01;34mWell rounded\u001b[00m\n",
      "└── \u001b[01;34mval\u001b[00m\n",
      "    ├── \u001b[01;34mAngular\u001b[00m\n",
      "    ├── \u001b[01;34mRounded\u001b[00m\n",
      "    ├── \u001b[01;34mSubangular\u001b[00m\n",
      "    ├── \u001b[01;34mSubrounded\u001b[00m\n",
      "    ├── \u001b[01;34mVery angular\u001b[00m\n",
      "    └── \u001b[01;34mWell rounded\u001b[00m\n",
      "\n",
      "14 directories, 0 files\n"
     ]
    }
   ],
   "source": [
    "!tree \"Particle Figures_split\" -L 2 #L显示树的数据层级"
   ]
  },
  {
   "cell_type": "code",
   "execution_count": null,
   "id": "41b05a96-3e38-450a-9895-d25f14a41104",
   "metadata": {},
   "outputs": [],
   "source": []
  }
 ],
 "metadata": {
  "kernelspec": {
   "display_name": "Python 3 (ipykernel)",
   "language": "python",
   "name": "python3"
  },
  "language_info": {
   "codemirror_mode": {
    "name": "ipython",
    "version": 3
   },
   "file_extension": ".py",
   "mimetype": "text/x-python",
   "name": "python",
   "nbconvert_exporter": "python",
   "pygments_lexer": "ipython3",
   "version": "3.10.12"
  }
 },
 "nbformat": 4,
 "nbformat_minor": 5
}
